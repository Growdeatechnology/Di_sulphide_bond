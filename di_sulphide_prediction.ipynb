{
 "cells": [
  {
   "cell_type": "markdown",
   "id": "1ea47bda-1477-4221-b4f0-536bf96dec64",
   "metadata": {},
   "source": [
    "load the file "
   ]
  },
  {
   "cell_type": "code",
   "execution_count": 1,
   "id": "9f0b9509-87e4-4401-bd09-f2baa4c1e041",
   "metadata": {},
   "outputs": [],
   "source": [
    "import pandas as pd \n",
    "df = pd.read_csv('/home/gdt-ws4/Downloads/protein_bond.csv')"
   ]
  },
  {
   "cell_type": "code",
   "execution_count": 2,
   "id": "569de733",
   "metadata": {},
   "outputs": [
    {
     "data": {
      "text/html": [
       "<div>\n",
       "<style scoped>\n",
       "    .dataframe tbody tr th:only-of-type {\n",
       "        vertical-align: middle;\n",
       "    }\n",
       "\n",
       "    .dataframe tbody tr th {\n",
       "        vertical-align: top;\n",
       "    }\n",
       "\n",
       "    .dataframe thead th {\n",
       "        text-align: right;\n",
       "    }\n",
       "</style>\n",
       "<table border=\"1\" class=\"dataframe\">\n",
       "  <thead>\n",
       "    <tr style=\"text-align: right;\">\n",
       "      <th></th>\n",
       "      <th>Unnamed: 0</th>\n",
       "      <th>prot_id</th>\n",
       "      <th>protein_seq</th>\n",
       "      <th>secondary_structure</th>\n",
       "      <th>number_of_bonds</th>\n",
       "    </tr>\n",
       "  </thead>\n",
       "  <tbody>\n",
       "    <tr>\n",
       "      <th>0</th>\n",
       "      <td>0</td>\n",
       "      <td>1BSOA</td>\n",
       "      <td>LIVTQTMKGLDIQKVAGTWYSLAMAASDISLLDAQSAPLRVYVEEL...</td>\n",
       "      <td>CCCCCCCTTCCTTTTCEECEEEEEEESSHHHHSSTTCTTCEEEEEE...</td>\n",
       "      <td>4</td>\n",
       "    </tr>\n",
       "    <tr>\n",
       "      <th>1</th>\n",
       "      <td>1</td>\n",
       "      <td>1BT3A</td>\n",
       "      <td>APIQAPEISKCVVPPADLPPGAVVDNCCPPVASNIVDYKLPAVTTM...</td>\n",
       "      <td>CCCCCCCGGGCCSSCTTCCTTCSCSCCCCCCCSSEEECCCCCCSSC...</td>\n",
       "      <td>4</td>\n",
       "    </tr>\n",
       "    <tr>\n",
       "      <th>2</th>\n",
       "      <td>2</td>\n",
       "      <td>1B2TA</td>\n",
       "      <td>MQHHGVTKCNITCSKMTSKIPVALLIHYQQNQASCGKRAIILETRQ...</td>\n",
       "      <td>CCSSCCCCSSSCCSSCCCCCCGGGEEEEEECCTTTSSSCEEEEETT...</td>\n",
       "      <td>4</td>\n",
       "    </tr>\n",
       "    <tr>\n",
       "      <th>3</th>\n",
       "      <td>3</td>\n",
       "      <td>1B32A</td>\n",
       "      <td>ADVPAGVQLADKQTLVRNNGSEVQSLDPHKIEGVPESNVSRDLFEG...</td>\n",
       "      <td>CCCCTTCCBCSSCEEEEECSSCCSCSCTTSCCBHHHHHHHHHHCCC...</td>\n",
       "      <td>2</td>\n",
       "    </tr>\n",
       "    <tr>\n",
       "      <th>4</th>\n",
       "      <td>4</td>\n",
       "      <td>1A2JA</td>\n",
       "      <td>AQYEDGKQYTTLEKPVAGAPQVLEFFSFFCPHCYQFEEVLHISDNV...</td>\n",
       "      <td>CCSCBTTTEEECSSCCTTCCSEEEEECTTCHHHHHHHHTSCHHHHH...</td>\n",
       "      <td>2</td>\n",
       "    </tr>\n",
       "    <tr>\n",
       "      <th>...</th>\n",
       "      <td>...</td>\n",
       "      <td>...</td>\n",
       "      <td>...</td>\n",
       "      <td>...</td>\n",
       "      <td>...</td>\n",
       "    </tr>\n",
       "    <tr>\n",
       "      <th>1013</th>\n",
       "      <td>1013</td>\n",
       "      <td>3SSIA</td>\n",
       "      <td>LYAPSALVLTVGKGVSATTAAPERAVTLTCAPGPSGTHPAAGSACA...</td>\n",
       "      <td>CCCCCEEEEEEEESSSTTTCCCCEEEEEECSSSCBSSSTTHHHHHH...</td>\n",
       "      <td>4</td>\n",
       "    </tr>\n",
       "    <tr>\n",
       "      <th>1014</th>\n",
       "      <td>1014</td>\n",
       "      <td>3UAGA</td>\n",
       "      <td>ADYQGKNVVIIGLGLTGLSCVDFFLARGVTPRVMDTRMTPPGLDKL...</td>\n",
       "      <td>CCCTTCCEEEECCSHHHHHHHHHHHTTTCCCEEEESSSSCTTGGGS...</td>\n",
       "      <td>2</td>\n",
       "    </tr>\n",
       "    <tr>\n",
       "      <th>1015</th>\n",
       "      <td>1015</td>\n",
       "      <td>4DPVZ</td>\n",
       "      <td>GSGNGSGGGGGGGSGGVGISTGTFNNQTEFKFLENGWVEITANSSR...</td>\n",
       "      <td>CCCCCCCCCCEETTEETTBCCCCCCCCEEEEECTTSEEEEEEEEEE...</td>\n",
       "      <td>2</td>\n",
       "    </tr>\n",
       "    <tr>\n",
       "      <th>1016</th>\n",
       "      <td>1016</td>\n",
       "      <td>5R1RA</td>\n",
       "      <td>MNQNLLVTKRDGSTERINLDKIHRVLDWAAEGLHNVSISQVELRSH...</td>\n",
       "      <td>CCCCCBCBBTTTBCCBCCHHHHHHHHHHHHTTCSSCCHHHHHHHHH...</td>\n",
       "      <td>2</td>\n",
       "    </tr>\n",
       "    <tr>\n",
       "      <th>1017</th>\n",
       "      <td>1017</td>\n",
       "      <td>8TFVA</td>\n",
       "      <td>GSKKPVPIIYCNRRTGKCQRM</td>\n",
       "      <td>CCCCCCCCEEEEGGGTEEEEC</td>\n",
       "      <td>2</td>\n",
       "    </tr>\n",
       "  </tbody>\n",
       "</table>\n",
       "<p>1018 rows × 5 columns</p>\n",
       "</div>"
      ],
      "text/plain": [
       "      Unnamed: 0 prot_id                                        protein_seq  \\\n",
       "0              0   1BSOA  LIVTQTMKGLDIQKVAGTWYSLAMAASDISLLDAQSAPLRVYVEEL...   \n",
       "1              1   1BT3A  APIQAPEISKCVVPPADLPPGAVVDNCCPPVASNIVDYKLPAVTTM...   \n",
       "2              2   1B2TA  MQHHGVTKCNITCSKMTSKIPVALLIHYQQNQASCGKRAIILETRQ...   \n",
       "3              3   1B32A  ADVPAGVQLADKQTLVRNNGSEVQSLDPHKIEGVPESNVSRDLFEG...   \n",
       "4              4   1A2JA  AQYEDGKQYTTLEKPVAGAPQVLEFFSFFCPHCYQFEEVLHISDNV...   \n",
       "...          ...     ...                                                ...   \n",
       "1013        1013   3SSIA  LYAPSALVLTVGKGVSATTAAPERAVTLTCAPGPSGTHPAAGSACA...   \n",
       "1014        1014   3UAGA  ADYQGKNVVIIGLGLTGLSCVDFFLARGVTPRVMDTRMTPPGLDKL...   \n",
       "1015        1015   4DPVZ  GSGNGSGGGGGGGSGGVGISTGTFNNQTEFKFLENGWVEITANSSR...   \n",
       "1016        1016   5R1RA  MNQNLLVTKRDGSTERINLDKIHRVLDWAAEGLHNVSISQVELRSH...   \n",
       "1017        1017   8TFVA                              GSKKPVPIIYCNRRTGKCQRM   \n",
       "\n",
       "                                    secondary_structure  number_of_bonds  \n",
       "0     CCCCCCCTTCCTTTTCEECEEEEEEESSHHHHSSTTCTTCEEEEEE...                4  \n",
       "1     CCCCCCCGGGCCSSCTTCCTTCSCSCCCCCCCSSEEECCCCCCSSC...                4  \n",
       "2     CCSSCCCCSSSCCSSCCCCCCGGGEEEEEECCTTTSSSCEEEEETT...                4  \n",
       "3     CCCCTTCCBCSSCEEEEECSSCCSCSCTTSCCBHHHHHHHHHHCCC...                2  \n",
       "4     CCSCBTTTEEECSSCCTTCCSEEEEECTTCHHHHHHHHTSCHHHHH...                2  \n",
       "...                                                 ...              ...  \n",
       "1013  CCCCCEEEEEEEESSSTTTCCCCEEEEEECSSSCBSSSTTHHHHHH...                4  \n",
       "1014  CCCTTCCEEEECCSHHHHHHHHHHHTTTCCCEEEESSSSCTTGGGS...                2  \n",
       "1015  CCCCCCCCCCEETTEETTBCCCCCCCCEEEEECTTSEEEEEEEEEE...                2  \n",
       "1016  CCCCCBCBBTTTBCCBCCHHHHHHHHHHHHTTCSSCCHHHHHHHHH...                2  \n",
       "1017                              CCCCCCCCEEEEGGGTEEEEC                2  \n",
       "\n",
       "[1018 rows x 5 columns]"
      ]
     },
     "execution_count": 2,
     "metadata": {},
     "output_type": "execute_result"
    }
   ],
   "source": [
    "df"
   ]
  },
  {
   "cell_type": "code",
   "execution_count": null,
   "id": "33debd7d-1d92-40e7-ae45-f09eea4fa85e",
   "metadata": {},
   "outputs": [],
   "source": [
    "# # Read the text file line by line\n",
    "# with open('disulfide.txt', 'r') as file:\n",
    "#     for line in file:\n",
    "#         # Split each line by spaces\n",
    "#         values = line.split(' ')\n",
    "#         print(values)\n",
    "#         # Process the values as needed\n",
    "       "
   ]
  },
  {
   "cell_type": "code",
   "execution_count": null,
   "id": "e7728224-def9-4551-8693-5577f4439da9",
   "metadata": {},
   "outputs": [],
   "source": [
    "# # Initialize a list to store data\n",
    "# data_list = []\n",
    "# current_data = []\n",
    "\n",
    "# # Read the text file line by line\n",
    "# with open('disulfide.txt', 'r') as file:\n",
    "#     for line in file:\n",
    "#         line = line.strip()  # Remove leading/trailing whitespace\n",
    "#         if line:\n",
    "#             # Append the line to the current_data list\n",
    "#             current_data.append(line)\n",
    "#         else:\n",
    "#             # If a blank line is encountered, append the current_data list to the data_list\n",
    "#             if current_data:\n",
    "#                 data_list.append(current_data)\n",
    "#             current_data = []  # Create a new list for the next section\n",
    "\n",
    "# # Append the last section to the data_list if not empty\n",
    "# if current_data:\n",
    "#     data_list.append(current_data)\n",
    "\n",
    "# # Display the list of lists\n",
    "# for section_data in data_list:\n",
    "#     print(section_data)\n"
   ]
  },
  {
   "cell_type": "code",
   "execution_count": 2,
   "id": "cb55b049-98ae-4a28-a171-a57abbb28727",
   "metadata": {},
   "outputs": [
    {
     "data": {
      "text/plain": [
       "Index(['Unnamed: 0', 'prot_id', 'protein_seq', 'secondary_structure',\n",
       "       'number_of_bonds'],\n",
       "      dtype='object')"
      ]
     },
     "execution_count": 2,
     "metadata": {},
     "output_type": "execute_result"
    }
   ],
   "source": [
    "df.columns"
   ]
  },
  {
   "cell_type": "markdown",
   "id": "7848dc22-dadc-43d5-bd9b-77e0a512b8e1",
   "metadata": {},
   "source": [
    "Plot the Data"
   ]
  },
  {
   "cell_type": "code",
   "execution_count": 3,
   "id": "f10f7d4f-3e82-4c98-a05c-54e4c05bdb56",
   "metadata": {},
   "outputs": [
    {
     "data": {
      "image/png": "[encoded data removed]",
      "text/plain": [
       "<Figure size 432x288 with 1 Axes>"
      ]
     },
     "metadata": {
      "needs_background": "light"
     },
     "output_type": "display_data"
    }
   ],
   "source": [
    "import seaborn as sns\n",
    "import matplotlib.pyplot as plt\n",
    "sns.histplot(df['number_of_bonds'], bins=100, kde=True)  # Adjust the number of bins as needed\n",
    "\n",
    "# Add labels and title\n",
    "plt.xlabel('Value')\n",
    "plt.ylabel('Frequency')\n",
    "plt.title('Data Distribution Plot')\n",
    "\n",
    "# Display the plot\n",
    "plt.show()\n"
   ]
  },
  {
   "cell_type": "code",
   "execution_count": 7,
   "id": "0a24753c-593b-436e-af80-9baea4cc46de",
   "metadata": {},
   "outputs": [],
   "source": [
    "df['target'] = (df['number_of_bonds']/df['seq_len']) *10"
   ]
  },
  {
   "cell_type": "markdown",
   "id": "740956ba-03b0-4b6a-91a7-db750b8302cb",
   "metadata": {},
   "source": [
    "Get the length of each protein sequence length"
   ]
  },
  {
   "cell_type": "code",
   "execution_count": 5,
   "id": "aa3117cc-63be-4adc-8b2d-77c12a3d332f",
   "metadata": {},
   "outputs": [],
   "source": [
    "df['seq_len'] = df['protein_seq'].apply(len)"
   ]
  },
  {
   "cell_type": "code",
   "execution_count": 8,
   "id": "cf1f7a22-7f9d-4c65-b1e8-c01dd867382c",
   "metadata": {},
   "outputs": [
    {
     "data": {
      "text/plain": [
       "Text(0, 0.5, 'Target values')"
      ]
     },
     "execution_count": 8,
     "metadata": {},
     "output_type": "execute_result"
    },
    {
     "data": {
      "image/png": "[encoded data removed]",
      "text/plain": [
       "<Figure size 432x288 with 1 Axes>"
      ]
     },
     "metadata": {
      "needs_background": "light"
     },
     "output_type": "display_data"
    }
   ],
   "source": [
    "import matplotlib.pyplot as plt\n",
    "plt.scatter(df['seq_len'],df['target'])\n",
    "plt.xlabel('sequence length')\n",
    "plt.ylabel('Target values')"
   ]
  },
  {
   "cell_type": "code",
   "execution_count": 9,
   "id": "0c0ae8e0-6f2b-4a47-91b6-d753fd1d7d7f",
   "metadata": {},
   "outputs": [
    {
     "data": {
      "text/plain": [
       "Text(0, 0.5, 'number of bonds')"
      ]
     },
     "execution_count": 9,
     "metadata": {},
     "output_type": "execute_result"
    },
    {
     "data": {
      "image/png": "[encoded data removed]",
      "text/plain": [
       "<Figure size 432x288 with 1 Axes>"
      ]
     },
     "metadata": {
      "needs_background": "light"
     },
     "output_type": "display_data"
    }
   ],
   "source": [
    "import matplotlib.pyplot as plt\n",
    "plt.scatter(df['seq_len'],df['number_of_bonds'])\n",
    "plt.xlabel('sequence length')\n",
    "plt.ylabel('number of bonds')"
   ]
  },
  {
   "cell_type": "code",
   "execution_count": 11,
   "id": "7ad60408-5878-4d5c-96e7-7ac6f49083dc",
   "metadata": {},
   "outputs": [
    {
     "ename": "NameError",
     "evalue": "name 'protein_seq' is not defined",
     "output_type": "error",
     "traceback": [
      "\u001b[0;31m---------------------------------------------------------------------------\u001b[0m",
      "\u001b[0;31mNameError\u001b[0m                                 Traceback (most recent call last)",
      "Cell \u001b[0;32mIn[11], line 1\u001b[0m\n\u001b[0;32m----> 1\u001b[0m max_sequence_length \u001b[38;5;241m=\u001b[39m \u001b[38;5;28mmax\u001b[39m(\u001b[38;5;28mlen\u001b[39m(seq) \u001b[38;5;28;01mfor\u001b[39;00m seq \u001b[38;5;129;01min\u001b[39;00m \u001b[43mprotein_seq\u001b[49m)\n\u001b[1;32m      3\u001b[0m \u001b[38;5;66;03m# Pad sequences to the maximum length\u001b[39;00m\n\u001b[1;32m      4\u001b[0m padded_sequences \u001b[38;5;241m=\u001b[39m pad_sequences(\u001b[38;5;28mall\u001b[39m, maxlen\u001b[38;5;241m=\u001b[39mmax_sequence_length, padding\u001b[38;5;241m=\u001b[39m\u001b[38;5;124m'\u001b[39m\u001b[38;5;124mpost\u001b[39m\u001b[38;5;124m'\u001b[39m, truncating\u001b[38;5;241m=\u001b[39m\u001b[38;5;124m'\u001b[39m\u001b[38;5;124mpost\u001b[39m\u001b[38;5;124m'\u001b[39m, dtype\u001b[38;5;241m=\u001b[39m\u001b[38;5;124m'\u001b[39m\u001b[38;5;124mfloat32\u001b[39m\u001b[38;5;124m'\u001b[39m)\n",
      "\u001b[0;31mNameError\u001b[0m: name 'protein_seq' is not defined"
     ]
    }
   ],
   "source": [
    "max_sequence_length = max(len(seq) for seq in protein_seq)\n",
    "\n",
    "# Pad sequences to the maximum length\n",
    "padded_sequences = pad_sequences(all, maxlen=max_sequence_length, padding='post', truncating='post', dtype='float32')\n",
    "\n",
    "# Convert the padded_sequences list to a numpy array\n",
    "X = np.array(padded_sequences)\n",
    "\n",
    "# Convert the delta_g_values to a numpy array\n",
    "# y = np.array(delta_g_values)"
   ]
  },
  {
   "cell_type": "code",
   "execution_count": 57,
   "id": "acea7769-37b2-4726-bd6d-6193456c4d6d",
   "metadata": {},
   "outputs": [
    {
     "data": {
      "text/plain": [
       "Index(['prot_id', 'Feature1', 'Unnamed: 0', 'protein_seq',\n",
       "       'secondary_structure', 'number_of_bonds', 'letter', 'seq_len',\n",
       "       'target'],\n",
       "      dtype='object')"
      ]
     },
     "execution_count": 57,
     "metadata": {},
     "output_type": "execute_result"
    }
   ],
   "source": [
    "df.columns"
   ]
  },
  {
   "cell_type": "code",
   "execution_count": 44,
   "id": "905b4bdd",
   "metadata": {},
   "outputs": [
    {
     "data": {
      "text/plain": [
       "0       4\n",
       "1       4\n",
       "2       4\n",
       "3       2\n",
       "4       2\n",
       "       ..\n",
       "1013    4\n",
       "1014    2\n",
       "1015    2\n",
       "1016    2\n",
       "1017    2\n",
       "Name: number_of_bonds, Length: 1018, dtype: int64"
      ]
     },
     "execution_count": 44,
     "metadata": {},
     "output_type": "execute_result"
    }
   ],
   "source": [
    "df['number_of_bonds']"
   ]
  },
  {
   "cell_type": "markdown",
   "id": "7e4d6290-17eb-414b-8d05-f835f8ed20f3",
   "metadata": {},
   "source": [
    "converted the target sequence "
   ]
  },
  {
   "cell_type": "code",
   "execution_count": 12,
   "id": "f3efc171-6f63-4f72-8704-c7e56408d4a2",
   "metadata": {},
   "outputs": [],
   "source": [
    "df['target'] = (df['number_of_bonds']/df['seq_len']) *10"
   ]
  },
  {
   "cell_type": "code",
   "execution_count": 13,
   "id": "43db3a0a-c515-48f9-926d-37d33602aed4",
   "metadata": {},
   "outputs": [
    {
     "data": {
      "text/plain": [
       "0       0.246914\n",
       "1       0.119048\n",
       "2       0.519481\n",
       "3       0.038685\n",
       "4       0.106383\n",
       "          ...   \n",
       "1013    0.370370\n",
       "1014    0.046512\n",
       "1015    0.035778\n",
       "1016    0.027100\n",
       "1017    0.952381\n",
       "Name: target, Length: 1018, dtype: float64"
      ]
     },
     "execution_count": 13,
     "metadata": {},
     "output_type": "execute_result"
    }
   ],
   "source": [
    "df['target']"
   ]
  },
  {
   "cell_type": "code",
   "execution_count": 14,
   "id": "14342f0f-a425-42d5-9999-eb769e3ec7fd",
   "metadata": {},
   "outputs": [],
   "source": [
    "import pandas as pd\n",
    "import numpy as np\n",
    "import pandas as pd\n",
    "import numpy as np\n",
    "from tensorflow.keras.callbacks import ReduceLROnPlateau\n",
    "from sklearn.model_selection import train_test_split\n",
    "from tensorflow.keras.preprocessing.sequence import pad_sequences\n",
    "from tensorflow.keras.models import Sequential\n",
    "from tensorflow.keras.layers import Embedding, Conv1D, MaxPooling1D, Flatten, Dense, Dropout\n",
    "from sklearn.preprocessing import LabelEncoder\n",
    "import tensorflow as tf\n",
    "from tensorflow.keras.optimizers import Adam\n",
    "from sklearn.metrics import mean_squared_error, r2_score, mean_absolute_error"
   ]
  },
  {
   "cell_type": "markdown",
   "id": "8791e59c-b8d4-4aa4-ba2d-7168ec787e61",
   "metadata": {},
   "source": [
    "Do the one hot encoding of each original sequence and secondary sequence"
   ]
  },
  {
   "cell_type": "code",
   "execution_count": 29,
   "id": "775537f0-40a1-4497-b7a8-6eee05a0de76",
   "metadata": {},
   "outputs": [],
   "source": [
    "import numpy as np\n",
    "\n",
    "# Define your list of amino acids\n",
    "amino_acids = ['A', 'C', 'D', 'E', 'F', 'G', 'H', 'I', 'K', 'L', 'M', 'N', 'P', 'Q', 'R', 'S', 'T', 'V', 'W', 'Y']\n",
    "\n",
    "# Create a dictionary to map amino acids to indices\n",
    "aa_to_index = {aa: i for i, aa in enumerate(amino_acids)}\n",
    "\n",
    "# Function to one-hot encode a sequence\n",
    "def one_hot_encode_sequence(sequence):\n",
    "    sequence_length = len(sequence)\n",
    "    num_classes = len(amino_acids)\n",
    "    one_hot_encoded = np.zeros((sequence_length, num_classes))\n",
    "    \n",
    "    for i, aa in enumerate(sequence):\n",
    "        if aa in aa_to_index:\n",
    "            one_hot_encoded[i, aa_to_index[aa]] = 1\n",
    "        else:\n",
    "            # Handle the case where the amino acid is not in the dictionary\n",
    "            # You can choose to ignore it, set a default value, or perform some other action\n",
    "            pass\n",
    "    \n",
    "    return one_hot_encoded\n",
    "\n",
    "# Example protein sequences\n",
    "protein_sequences = df['protein_seq']\n",
    "# Encode the sequences\n",
    "all_dot_products = [one_hot_encode_sequence(seq) for seq in protein_sequences]\n",
    "# structures = df['secondary_structure']\n",
    "# import numpy as np\n",
    "\n",
    "# all_dot_products = []\n",
    "\n",
    "# for i in range(len(encoded_seq)):\n",
    "#     all_dot =  encoded_seq[i]\n",
    "#     all_dot_products.append(all_dot)\n"
   ]
  },
  {
   "cell_type": "code",
   "execution_count": 35,
   "id": "980d7d75",
   "metadata": {},
   "outputs": [
    {
     "data": {
      "text/plain": [
       "0       LIVTQTMKGLDIQKVAGTWYSLAMAASDISLLDAQSAPLRVYVEEL...\n",
       "1       APIQAPEISKCVVPPADLPPGAVVDNCCPPVASNIVDYKLPAVTTM...\n",
       "2       MQHHGVTKCNITCSKMTSKIPVALLIHYQQNQASCGKRAIILETRQ...\n",
       "3       ADVPAGVQLADKQTLVRNNGSEVQSLDPHKIEGVPESNVSRDLFEG...\n",
       "4       AQYEDGKQYTTLEKPVAGAPQVLEFFSFFCPHCYQFEEVLHISDNV...\n",
       "                              ...                        \n",
       "1013    LYAPSALVLTVGKGVSATTAAPERAVTLTCAPGPSGTHPAAGSACA...\n",
       "1014    ADYQGKNVVIIGLGLTGLSCVDFFLARGVTPRVMDTRMTPPGLDKL...\n",
       "1015    GSGNGSGGGGGGGSGGVGISTGTFNNQTEFKFLENGWVEITANSSR...\n",
       "1016    MNQNLLVTKRDGSTERINLDKIHRVLDWAAEGLHNVSISQVELRSH...\n",
       "1017                                GSKKPVPIIYCNRRTGKCQRM\n",
       "Name: protein_seq, Length: 1018, dtype: object"
      ]
     },
     "execution_count": 35,
     "metadata": {},
     "output_type": "execute_result"
    }
   ],
   "source": [
    "df['protein_seq']"
   ]
  },
  {
   "cell_type": "code",
   "execution_count": 36,
   "id": "ddad6d2c",
   "metadata": {},
   "outputs": [],
   "source": [
    "# Assuming 'df' is your DataFrame\n",
    "protein_sequences = df['protein_seq']\n",
    "delta_g_values = df['target']\n",
    "\n",
    "amino_acids = ['A', 'C', 'D', 'E', 'F', 'G', 'H', 'I', 'K', 'L', 'M', 'N', 'P', 'Q', 'R', 'S', 'T', 'V', 'W', 'Y']\n",
    "\n",
    "# Create a dictionary to map amino acids to indices\n",
    "aa_to_index = {aa: i for i, aa in enumerate(amino_acids)}\n",
    "\n",
    "# Function to one-hot encode a sequence\n",
    "def one_hot_encode_sequence(sequence):\n",
    "    sequence_length = len(sequence)\n",
    "    num_classes = len(amino_acids)\n",
    "    one_hot_encoded = np.zeros((sequence_length, num_classes))\n",
    "    \n",
    "    for i, aa in enumerate(sequence):\n",
    "        if aa in aa_to_index:\n",
    "            one_hot_encoded[i, aa_to_index[aa]] = 1\n",
    "        else:\n",
    "            # Handle the case where the amino acid is not in the dictionary\n",
    "            # You can choose to ignore it, set a default value, or perform some other action\n",
    "            pass\n",
    "    \n",
    "    return one_hot_encoded\n",
    "# One-hot encode all the protein sequences in the DataFrame\n",
    "import numpy as np\n",
    "from tensorflow.keras.preprocessing.sequence import pad_sequences\n",
    "\n",
    "# Assuming you have a list of one-hot encoded sequences\n",
    "encoded_sequences = [one_hot_encode_sequence(seq) for seq in protein_sequences]\n",
    "\n",
    "#Find the maximum sequence length\n",
    "max_sequence_length = max(len(seq) for seq in encoded_sequences)\n",
    "\n",
    "# Pad sequences to the maximum length\n",
    "padded_sequences = pad_sequences(encoded_sequences, maxlen=max_sequence_length, padding='post', truncating='post', dtype='float32')\n",
    "\n",
    "# Convert the padded_sequences list to a numpy array\n",
    "X = np.array(padded_sequences)\n",
    "\n",
    "# Convert the delta_g_values to a numpy array\n",
    "y = np.array(delta_g_values)\n",
    "del protein_sequences\n",
    "del delta_g_values\n",
    "del encoded_sequences\n",
    "del padded_sequences"
   ]
  },
  {
   "cell_type": "code",
   "execution_count": 43,
   "id": "a33f9c4f",
   "metadata": {},
   "outputs": [
    {
     "data": {
      "text/plain": [
       "1395"
      ]
     },
     "execution_count": 43,
     "metadata": {},
     "output_type": "execute_result"
    }
   ],
   "source": [
    "max_sequence_length"
   ]
  },
  {
   "cell_type": "code",
   "execution_count": 30,
   "id": "5e346795-f6a7-42b4-9635-775c6b8383f5",
   "metadata": {},
   "outputs": [
    {
     "name": "stderr",
     "output_type": "stream",
     "text": [
      "<ipython-input-30-46454f21ef36>:1: VisibleDeprecationWarning: Creating an ndarray from ragged nested sequences (which is a list-or-tuple of lists-or-tuples-or ndarrays with different lengths or shapes) is deprecated. If you meant to do this, you must specify 'dtype=object' when creating the ndarray.\n",
      "  X = np.array(all_dot_products)\n"
     ]
    }
   ],
   "source": [
    "X "
   ]
  },
  {
   "cell_type": "code",
   "execution_count": 31,
   "id": "c1961a41-27ee-40f1-b1f3-3f0f14e38035",
   "metadata": {},
   "outputs": [],
   "source": [
    "# y = df['target']\n",
    "# y = np.array(y)"
   ]
  },
  {
   "cell_type": "code",
   "execution_count": 37,
   "id": "da1b39a4-6734-44b1-9763-b7c7ce144a39",
   "metadata": {},
   "outputs": [
    {
     "name": "stdout",
     "output_type": "stream",
     "text": [
      "Training data shapes: (712, 1395, 20) (712,)\n",
      "Validation data shapes: (100, 1395, 20) (100,)\n",
      "Test data shapes: (206, 1395, 20) (206,)\n"
     ]
    }
   ],
   "source": [
    "# Split the data into 70% training and 30% test\n",
    "X_train, X_temp, y_train, y_temp = train_test_split(X, y, test_size=0.3,random_state=42)\n",
    "\n",
    "# # Split the remaining data (30%) into 10% validation and 20% test\n",
    "X_val, X_test, y_val, y_test = train_test_split(X_temp, y_temp, test_size=0.67, random_state=42)\n",
    "\n",
    "# # Print the shapes of the datasets\n",
    "print(\"Training data shapes:\", X_train.shape, y_train.shape)\n",
    "print(\"Validation data shapes:\", X_val.shape, y_val.shape)\n",
    "print(\"Test data shapes:\", X_test.shape, y_test.shape)\n"
   ]
  },
  {
   "cell_type": "code",
   "execution_count": 38,
   "id": "f0cd5b10-21db-4530-85c8-1fb7aadf1321",
   "metadata": {},
   "outputs": [
    {
     "name": "stdout",
     "output_type": "stream",
     "text": [
      "Epoch 1/100\n",
      "23/23 [==============================] - 3s 90ms/step - loss: 0.9523 - val_loss: 0.1601 - lr: 0.0010\n",
      "Epoch 2/100\n",
      "23/23 [==============================] - 0s 13ms/step - loss: 0.1701 - val_loss: 0.1078 - lr: 0.0010\n",
      "Epoch 3/100\n",
      "23/23 [==============================] - 0s 13ms/step - loss: 0.1453 - val_loss: 0.1253 - lr: 0.0010\n",
      "Epoch 4/100\n",
      "23/23 [==============================] - 0s 13ms/step - loss: 0.1384 - val_loss: 0.0924 - lr: 0.0010\n",
      "Epoch 5/100\n",
      "23/23 [==============================] - 0s 13ms/step - loss: 0.1109 - val_loss: 0.0961 - lr: 0.0010\n",
      "Epoch 6/100\n",
      "23/23 [==============================] - 0s 13ms/step - loss: 0.1125 - val_loss: 0.0931 - lr: 0.0010\n",
      "Epoch 7/100\n",
      "23/23 [==============================] - 0s 13ms/step - loss: 0.1042 - val_loss: 0.0762 - lr: 0.0010\n",
      "Epoch 8/100\n",
      "23/23 [==============================] - 0s 15ms/step - loss: 0.0833 - val_loss: 0.0672 - lr: 0.0010\n",
      "Epoch 9/100\n",
      "23/23 [==============================] - 0s 13ms/step - loss: 0.0470 - val_loss: 0.0428 - lr: 0.0010\n",
      "Epoch 10/100\n",
      "23/23 [==============================] - 0s 13ms/step - loss: 0.0401 - val_loss: 0.0455 - lr: 0.0010\n",
      "Epoch 11/100\n",
      "23/23 [==============================] - 0s 14ms/step - loss: 0.0324 - val_loss: 0.0273 - lr: 0.0010\n",
      "Epoch 12/100\n",
      "23/23 [==============================] - 0s 13ms/step - loss: 0.0348 - val_loss: 0.0273 - lr: 0.0010\n",
      "Epoch 13/100\n",
      "23/23 [==============================] - 0s 13ms/step - loss: 0.0371 - val_loss: 0.0323 - lr: 0.0010\n",
      "Epoch 14/100\n",
      "23/23 [==============================] - 0s 13ms/step - loss: 0.0299 - val_loss: 0.0475 - lr: 0.0010\n",
      "Epoch 15/100\n",
      "23/23 [==============================] - 0s 13ms/step - loss: 0.0263 - val_loss: 0.0319 - lr: 0.0010\n",
      "Epoch 16/100\n",
      "21/23 [==========================>...] - ETA: 0s - loss: 0.0282\n",
      "Epoch 16: ReduceLROnPlateau reducing learning rate to 0.0005000000237487257.\n",
      "23/23 [==============================] - 0s 13ms/step - loss: 0.0286 - val_loss: 0.0300 - lr: 0.0010\n",
      "Epoch 17/100\n",
      "23/23 [==============================] - 0s 13ms/step - loss: 0.0245 - val_loss: 0.0281 - lr: 5.0000e-04\n",
      "Epoch 18/100\n",
      "23/23 [==============================] - 0s 13ms/step - loss: 0.0210 - val_loss: 0.0364 - lr: 5.0000e-04\n",
      "Epoch 19/100\n",
      "23/23 [==============================] - 0s 13ms/step - loss: 0.0206 - val_loss: 0.0257 - lr: 5.0000e-04\n",
      "Epoch 20/100\n",
      "23/23 [==============================] - 0s 13ms/step - loss: 0.0170 - val_loss: 0.0284 - lr: 5.0000e-04\n",
      "Epoch 21/100\n",
      "23/23 [==============================] - 0s 14ms/step - loss: 0.0224 - val_loss: 0.0292 - lr: 5.0000e-04\n",
      "Epoch 22/100\n",
      "23/23 [==============================] - 0s 14ms/step - loss: 0.0214 - val_loss: 0.0255 - lr: 5.0000e-04\n",
      "Epoch 23/100\n",
      "23/23 [==============================] - 0s 14ms/step - loss: 0.0197 - val_loss: 0.0284 - lr: 5.0000e-04\n",
      "Epoch 24/100\n",
      "23/23 [==============================] - 0s 13ms/step - loss: 0.0243 - val_loss: 0.0213 - lr: 5.0000e-04\n",
      "Epoch 25/100\n",
      "23/23 [==============================] - 0s 13ms/step - loss: 0.0213 - val_loss: 0.0236 - lr: 5.0000e-04\n",
      "Epoch 26/100\n",
      "23/23 [==============================] - 0s 14ms/step - loss: 0.0203 - val_loss: 0.0271 - lr: 5.0000e-04\n",
      "Epoch 27/100\n",
      "23/23 [==============================] - 0s 15ms/step - loss: 0.0244 - val_loss: 0.0327 - lr: 5.0000e-04\n",
      "Epoch 28/100\n",
      "23/23 [==============================] - 0s 15ms/step - loss: 0.0201 - val_loss: 0.0224 - lr: 5.0000e-04\n",
      "Epoch 29/100\n",
      "19/23 [=======================>......] - ETA: 0s - loss: 0.0234\n",
      "Epoch 29: ReduceLROnPlateau reducing learning rate to 0.0002500000118743628.\n",
      "23/23 [==============================] - 0s 15ms/step - loss: 0.0221 - val_loss: 0.0253 - lr: 5.0000e-04\n",
      "Epoch 30/100\n",
      "23/23 [==============================] - 0s 15ms/step - loss: 0.0191 - val_loss: 0.0252 - lr: 2.5000e-04\n",
      "Epoch 31/100\n",
      "23/23 [==============================] - 0s 15ms/step - loss: 0.0191 - val_loss: 0.0281 - lr: 2.5000e-04\n",
      "Epoch 32/100\n",
      "23/23 [==============================] - 0s 14ms/step - loss: 0.0161 - val_loss: 0.0254 - lr: 2.5000e-04\n",
      "Epoch 33/100\n",
      "23/23 [==============================] - 0s 13ms/step - loss: 0.0171 - val_loss: 0.0229 - lr: 2.5000e-04\n",
      "Epoch 34/100\n",
      "21/23 [==========================>...] - ETA: 0s - loss: 0.0180\n",
      "Epoch 34: ReduceLROnPlateau reducing learning rate to 0.0001250000059371814.\n",
      "23/23 [==============================] - 0s 13ms/step - loss: 0.0176 - val_loss: 0.0259 - lr: 2.5000e-04\n",
      "Epoch 35/100\n",
      "23/23 [==============================] - 0s 12ms/step - loss: 0.0177 - val_loss: 0.0239 - lr: 1.2500e-04\n",
      "Epoch 36/100\n",
      "23/23 [==============================] - 0s 12ms/step - loss: 0.0181 - val_loss: 0.0229 - lr: 1.2500e-04\n",
      "Epoch 37/100\n",
      "23/23 [==============================] - 0s 12ms/step - loss: 0.0148 - val_loss: 0.0230 - lr: 1.2500e-04\n",
      "Epoch 38/100\n",
      "23/23 [==============================] - 0s 12ms/step - loss: 0.0162 - val_loss: 0.0275 - lr: 1.2500e-04\n",
      "Epoch 39/100\n",
      "21/23 [==========================>...] - ETA: 0s - loss: 0.0215\n",
      "Epoch 39: ReduceLROnPlateau reducing learning rate to 6.25000029685907e-05.\n",
      "23/23 [==============================] - 0s 13ms/step - loss: 0.0206 - val_loss: 0.0261 - lr: 1.2500e-04\n",
      "Epoch 40/100\n",
      "23/23 [==============================] - 0s 13ms/step - loss: 0.0193 - val_loss: 0.0237 - lr: 6.2500e-05\n",
      "Epoch 41/100\n",
      "23/23 [==============================] - 0s 12ms/step - loss: 0.0148 - val_loss: 0.0247 - lr: 6.2500e-05\n",
      "Epoch 42/100\n",
      "23/23 [==============================] - 0s 12ms/step - loss: 0.0145 - val_loss: 0.0242 - lr: 6.2500e-05\n",
      "Epoch 43/100\n",
      "23/23 [==============================] - 0s 13ms/step - loss: 0.0149 - val_loss: 0.0245 - lr: 6.2500e-05\n",
      "Epoch 44/100\n",
      "21/23 [==========================>...] - ETA: 0s - loss: 0.0129\n",
      "Epoch 44: ReduceLROnPlateau reducing learning rate to 3.125000148429535e-05.\n",
      "23/23 [==============================] - 0s 13ms/step - loss: 0.0132 - val_loss: 0.0255 - lr: 6.2500e-05\n",
      "Epoch 45/100\n",
      "23/23 [==============================] - 0s 13ms/step - loss: 0.0154 - val_loss: 0.0245 - lr: 3.1250e-05\n",
      "Epoch 46/100\n",
      "23/23 [==============================] - 0s 13ms/step - loss: 0.0146 - val_loss: 0.0252 - lr: 3.1250e-05\n",
      "Epoch 47/100\n",
      "23/23 [==============================] - 0s 13ms/step - loss: 0.0158 - val_loss: 0.0250 - lr: 3.1250e-05\n",
      "Epoch 48/100\n",
      "23/23 [==============================] - 0s 13ms/step - loss: 0.0186 - val_loss: 0.0242 - lr: 3.1250e-05\n",
      "Epoch 49/100\n",
      "21/23 [==========================>...] - ETA: 0s - loss: 0.0174\n",
      "Epoch 49: ReduceLROnPlateau reducing learning rate to 1.5625000742147677e-05.\n",
      "23/23 [==============================] - 0s 13ms/step - loss: 0.0169 - val_loss: 0.0257 - lr: 3.1250e-05\n",
      "Epoch 50/100\n",
      "23/23 [==============================] - 0s 13ms/step - loss: 0.0137 - val_loss: 0.0247 - lr: 1.5625e-05\n",
      "Epoch 51/100\n",
      "23/23 [==============================] - 0s 13ms/step - loss: 0.0133 - val_loss: 0.0258 - lr: 1.5625e-05\n",
      "Epoch 52/100\n",
      "23/23 [==============================] - 0s 13ms/step - loss: 0.0144 - val_loss: 0.0251 - lr: 1.5625e-05\n",
      "Epoch 53/100\n",
      "23/23 [==============================] - 0s 13ms/step - loss: 0.0153 - val_loss: 0.0265 - lr: 1.5625e-05\n",
      "Epoch 54/100\n",
      "21/23 [==========================>...] - ETA: 0s - loss: 0.0189\n",
      "Epoch 54: ReduceLROnPlateau reducing learning rate to 7.812500371073838e-06.\n",
      "23/23 [==============================] - 0s 13ms/step - loss: 0.0186 - val_loss: 0.0248 - lr: 1.5625e-05\n",
      "Epoch 55/100\n",
      "23/23 [==============================] - 0s 13ms/step - loss: 0.0164 - val_loss: 0.0245 - lr: 7.8125e-06\n",
      "Epoch 56/100\n",
      "23/23 [==============================] - 0s 12ms/step - loss: 0.0172 - val_loss: 0.0243 - lr: 7.8125e-06\n",
      "Epoch 57/100\n",
      "23/23 [==============================] - 0s 13ms/step - loss: 0.0208 - val_loss: 0.0241 - lr: 7.8125e-06\n",
      "Epoch 58/100\n",
      "23/23 [==============================] - 0s 13ms/step - loss: 0.0152 - val_loss: 0.0246 - lr: 7.8125e-06\n",
      "Epoch 59/100\n",
      "21/23 [==========================>...] - ETA: 0s - loss: 0.0144\n",
      "Epoch 59: ReduceLROnPlateau reducing learning rate to 3.906250185536919e-06.\n",
      "23/23 [==============================] - 0s 12ms/step - loss: 0.0140 - val_loss: 0.0247 - lr: 7.8125e-06\n",
      "Epoch 60/100\n",
      "23/23 [==============================] - 0s 14ms/step - loss: 0.0139 - val_loss: 0.0249 - lr: 3.9063e-06\n",
      "Epoch 61/100\n",
      "23/23 [==============================] - 0s 13ms/step - loss: 0.0161 - val_loss: 0.0248 - lr: 3.9063e-06\n",
      "Epoch 62/100\n",
      "23/23 [==============================] - 0s 13ms/step - loss: 0.0165 - val_loss: 0.0245 - lr: 3.9063e-06\n",
      "Epoch 63/100\n",
      "23/23 [==============================] - 0s 13ms/step - loss: 0.0149 - val_loss: 0.0245 - lr: 3.9063e-06\n",
      "Epoch 64/100\n",
      "21/23 [==========================>...] - ETA: 0s - loss: 0.0161\n",
      "Epoch 64: ReduceLROnPlateau reducing learning rate to 1.9531250927684596e-06.\n",
      "23/23 [==============================] - 0s 12ms/step - loss: 0.0160 - val_loss: 0.0244 - lr: 3.9063e-06\n",
      "Epoch 65/100\n",
      "23/23 [==============================] - 0s 13ms/step - loss: 0.0166 - val_loss: 0.0244 - lr: 1.9531e-06\n",
      "Epoch 66/100\n",
      "23/23 [==============================] - 0s 13ms/step - loss: 0.0152 - val_loss: 0.0245 - lr: 1.9531e-06\n",
      "Epoch 67/100\n",
      "23/23 [==============================] - 0s 13ms/step - loss: 0.0194 - val_loss: 0.0244 - lr: 1.9531e-06\n",
      "Epoch 68/100\n",
      "23/23 [==============================] - 0s 13ms/step - loss: 0.0144 - val_loss: 0.0244 - lr: 1.9531e-06\n",
      "Epoch 69/100\n",
      "21/23 [==========================>...] - ETA: 0s - loss: 0.0171\n",
      "Epoch 69: ReduceLROnPlateau reducing learning rate to 9.765625463842298e-07.\n",
      "23/23 [==============================] - 0s 13ms/step - loss: 0.0166 - val_loss: 0.0244 - lr: 1.9531e-06\n",
      "Epoch 70/100\n",
      "23/23 [==============================] - 0s 13ms/step - loss: 0.0116 - val_loss: 0.0244 - lr: 9.7656e-07\n",
      "Epoch 71/100\n",
      "23/23 [==============================] - 0s 13ms/step - loss: 0.0162 - val_loss: 0.0244 - lr: 9.7656e-07\n",
      "Epoch 72/100\n",
      "23/23 [==============================] - 0s 13ms/step - loss: 0.0148 - val_loss: 0.0245 - lr: 9.7656e-07\n",
      "Epoch 73/100\n",
      "23/23 [==============================] - 0s 13ms/step - loss: 0.0179 - val_loss: 0.0244 - lr: 9.7656e-07\n",
      "Epoch 74/100\n",
      "21/23 [==========================>...] - ETA: 0s - loss: 0.0139\n",
      "Epoch 74: ReduceLROnPlateau reducing learning rate to 4.882812731921149e-07.\n",
      "23/23 [==============================] - 0s 13ms/step - loss: 0.0137 - val_loss: 0.0244 - lr: 9.7656e-07\n",
      "Epoch 75/100\n",
      "23/23 [==============================] - 0s 13ms/step - loss: 0.0141 - val_loss: 0.0244 - lr: 4.8828e-07\n",
      "Epoch 76/100\n",
      "23/23 [==============================] - 0s 13ms/step - loss: 0.0172 - val_loss: 0.0244 - lr: 4.8828e-07\n",
      "Epoch 77/100\n",
      "23/23 [==============================] - 0s 13ms/step - loss: 0.0161 - val_loss: 0.0244 - lr: 4.8828e-07\n",
      "Epoch 78/100\n",
      "23/23 [==============================] - 0s 13ms/step - loss: 0.0148 - val_loss: 0.0245 - lr: 4.8828e-07\n",
      "Epoch 79/100\n",
      "20/23 [=========================>....] - ETA: 0s - loss: 0.0158\n",
      "Epoch 79: ReduceLROnPlateau reducing learning rate to 2.4414063659605745e-07.\n",
      "23/23 [==============================] - 0s 13ms/step - loss: 0.0165 - val_loss: 0.0245 - lr: 4.8828e-07\n",
      "Epoch 80/100\n",
      "23/23 [==============================] - 0s 13ms/step - loss: 0.0174 - val_loss: 0.0244 - lr: 2.4414e-07\n",
      "Epoch 81/100\n",
      "23/23 [==============================] - 0s 13ms/step - loss: 0.0149 - val_loss: 0.0245 - lr: 2.4414e-07\n",
      "Epoch 82/100\n",
      "23/23 [==============================] - 0s 13ms/step - loss: 0.0162 - val_loss: 0.0245 - lr: 2.4414e-07\n",
      "Epoch 83/100\n",
      "23/23 [==============================] - 0s 13ms/step - loss: 0.0138 - val_loss: 0.0244 - lr: 2.4414e-07\n",
      "Epoch 84/100\n",
      "21/23 [==========================>...] - ETA: 0s - loss: 0.0165\n",
      "Epoch 84: ReduceLROnPlateau reducing learning rate to 1.2207031829802872e-07.\n",
      "23/23 [==============================] - 0s 14ms/step - loss: 0.0164 - val_loss: 0.0244 - lr: 2.4414e-07\n",
      "Epoch 85/100\n",
      "23/23 [==============================] - 0s 14ms/step - loss: 0.0157 - val_loss: 0.0244 - lr: 1.2207e-07\n",
      "Epoch 86/100\n",
      "23/23 [==============================] - 0s 15ms/step - loss: 0.0174 - val_loss: 0.0244 - lr: 1.2207e-07\n",
      "Epoch 87/100\n",
      "23/23 [==============================] - 0s 14ms/step - loss: 0.0177 - val_loss: 0.0244 - lr: 1.2207e-07\n",
      "Epoch 88/100\n",
      "23/23 [==============================] - 0s 15ms/step - loss: 0.0163 - val_loss: 0.0244 - lr: 1.2207e-07\n",
      "Epoch 89/100\n",
      "19/23 [=======================>......] - ETA: 0s - loss: 0.0144\n",
      "Epoch 89: ReduceLROnPlateau reducing learning rate to 6.103515914901436e-08.\n",
      "23/23 [==============================] - 0s 14ms/step - loss: 0.0143 - val_loss: 0.0245 - lr: 1.2207e-07\n",
      "Epoch 90/100\n",
      "23/23 [==============================] - 0s 16ms/step - loss: 0.0149 - val_loss: 0.0245 - lr: 6.1035e-08\n",
      "Epoch 91/100\n",
      "23/23 [==============================] - 0s 13ms/step - loss: 0.0140 - val_loss: 0.0245 - lr: 6.1035e-08\n",
      "Epoch 92/100\n",
      "23/23 [==============================] - 0s 13ms/step - loss: 0.0141 - val_loss: 0.0245 - lr: 6.1035e-08\n",
      "Epoch 93/100\n",
      "23/23 [==============================] - 0s 15ms/step - loss: 0.0148 - val_loss: 0.0245 - lr: 6.1035e-08\n",
      "Epoch 94/100\n",
      "21/23 [==========================>...] - ETA: 0s - loss: 0.0143\n",
      "Epoch 94: ReduceLROnPlateau reducing learning rate to 3.051757957450718e-08.\n",
      "23/23 [==============================] - 0s 14ms/step - loss: 0.0147 - val_loss: 0.0245 - lr: 6.1035e-08\n",
      "Epoch 95/100\n",
      "23/23 [==============================] - 0s 14ms/step - loss: 0.0185 - val_loss: 0.0245 - lr: 3.0518e-08\n",
      "Epoch 96/100\n",
      "23/23 [==============================] - 0s 13ms/step - loss: 0.0140 - val_loss: 0.0245 - lr: 3.0518e-08\n",
      "Epoch 97/100\n",
      "23/23 [==============================] - 0s 13ms/step - loss: 0.0167 - val_loss: 0.0245 - lr: 3.0518e-08\n",
      "Epoch 98/100\n",
      "23/23 [==============================] - 0s 13ms/step - loss: 0.0151 - val_loss: 0.0245 - lr: 3.0518e-08\n",
      "Epoch 99/100\n",
      "20/23 [=========================>....] - ETA: 0s - loss: 0.0154\n",
      "Epoch 99: ReduceLROnPlateau reducing learning rate to 1.525878978725359e-08.\n",
      "23/23 [==============================] - 0s 13ms/step - loss: 0.0152 - val_loss: 0.0245 - lr: 3.0518e-08\n",
      "Epoch 100/100\n",
      "23/23 [==============================] - 0s 13ms/step - loss: 0.0127 - val_loss: 0.0245 - lr: 1.5259e-08\n",
      "7/7 [==============================] - 0s 56ms/step - loss: 0.0382\n",
      "Test Loss: 0.03816630691289902\n"
     ]
    }
   ],
   "source": [
    "from keras.models import Sequential\n",
    "from keras.layers import Conv1D, MaxPooling1D, Flatten, Dense, Dropout\n",
    "from keras.optimizers import Adam\n",
    "from keras.callbacks import ReduceLROnPlateau\n",
    "\n",
    "# Set the input shape and number of classes (1 for regression)\n",
    "input_shape = (X_train.shape[1],X_train.shape[2]) # Sequence length and number of channels\n",
    "num_classes = 1\n",
    "\n",
    "# Create the model\n",
    "model = Sequential()\n",
    "model.add(Conv1D(filters=32, kernel_size=3, activation='relu', input_shape=input_shape))\n",
    "model.add(MaxPooling1D(pool_size=1))  # Keep this pooling layer\n",
    "model.add(Conv1D(filters=64, kernel_size=3, activation='relu'))\n",
    "model.add(MaxPooling1D(pool_size=2))\n",
    "model.add(Conv1D(filters=128, kernel_size=3, activation='relu'))\n",
    "model.add(MaxPooling1D(pool_size=2))\n",
    "model.add(Flatten())\n",
    "model.add(Dense(256, activation='relu'))\n",
    "model.add(Dropout(0.5))\n",
    "model.add(Dense(num_classes, activation='linear'))\n",
    "\n",
    "\n",
    "# Compile the model with appropriate loss function and optimizer\n",
    "model.compile(loss='mean_squared_error', optimizer=Adam(learning_rate=0.001))\n",
    "\n",
    "# Apply learning rate scheduling\n",
    "lr_scheduler = ReduceLROnPlateau(factor=0.5, patience=5, verbose=1)\n",
    "\n",
    "# Train the model using the training dataset and validate on the validation set\n",
    "history = model.fit(X_train, y_train, epochs=100, batch_size=32, validation_data=(X_val, y_val), callbacks=[lr_scheduler])\n",
    "\n",
    "# Evaluate the model on the test dataset\n",
    "test_loss = model.evaluate(X_test, y_test)\n",
    "print(\"Test Loss:\", test_loss)\n"
   ]
  },
  {
   "cell_type": "code",
   "execution_count": 39,
   "id": "663b0bd4-c030-4e38-a8ee-c79d3a2423be",
   "metadata": {},
   "outputs": [
    {
     "name": "stdout",
     "output_type": "stream",
     "text": [
      "7/7 [==============================] - 0s 2ms/step\n",
      "Mean Squared Error (MSE): 0.038166303818456176\n",
      "R-squared Score: 0.9301342024965107\n"
     ]
    }
   ],
   "source": [
    "# Assuming you have predictions and true values as numpy arrays\n",
    "prediction = model.predict(X_test)\n",
    "y_true = np.array(y_test)  # True delta_G values for the test data\n",
    "y_pred = prediction.reshape(-1)  # Reshape predictions to a 1D array if needed\n",
    "\n",
    "# Calculate mean squared error (MSE)\n",
    "mse = mean_squared_error(y_true, y_pred)\n",
    "\n",
    "# Calculate coefficient of determination (R-squared score)\n",
    "r2_score_value = r2_score(y_true, y_pred)\n",
    "\n",
    "# Print the results\n",
    "print(\"Mean Squared Error (MSE):\", mse)\n",
    "print(\"R-squared Score:\", r2_score_value)\n"
   ]
  },
  {
   "cell_type": "code",
   "execution_count": 40,
   "id": "ed28785c-0152-42b0-8229-a11717538ba0",
   "metadata": {},
   "outputs": [
    {
     "data": {
      "image/png": "[encoded data removed]",
      "text/plain": [
       "<Figure size 576x432 with 1 Axes>"
      ]
     },
     "metadata": {
      "needs_background": "light"
     },
     "output_type": "display_data"
    }
   ],
   "source": [
    "import matplotlib.pyplot as plt\n",
    "regression_line = np.polyfit(y_true, y_pred, 1)\n",
    "regression_fn = np.poly1d(regression_line)\n",
    "\n",
    "# Calculate the R-squared value\n",
    "r2 = r2_score(y_true, y_pred)\n",
    "\n",
    "# Create a scatter plot with regression line and R-squared value\n",
    "plt.figure(figsize=(8, 6))\n",
    "\n",
    "plt.scatter(y_true, y_pred, color='blue', label='Data points')\n",
    "plt.plot(y_true, regression_fn(y_true), color='red', label='Regression line')\n",
    "\n",
    "# Annotate with R-squared value\n",
    "plt.annotate(f'R-squared = {r2:.2f}', (0.1, 0.9), xycoords='axes fraction', fontsize=12)\n",
    "\n",
    "plt.xlabel('Observed Data')\n",
    "plt.ylabel('predicted Data')\n",
    "plt.title('Scatter Plot with Regression Line and R-squared Value')\n",
    "plt.legend()\n",
    "\n",
    "plt.grid(True, linestyle='--', alpha=0.7)\n",
    "plt.tight_layout()\n",
    "plt.show()\n",
    "\n"
   ]
  },
  {
   "cell_type": "code",
   "execution_count": 41,
   "id": "91f79a0c-d0ef-4519-b594-20e9b10a8979",
   "metadata": {},
   "outputs": [
    {
     "data": {
      "image/png": "[encoded data removed]",
      "text/plain": [
       "<Figure size 576x432 with 1 Axes>"
      ]
     },
     "metadata": {
      "needs_background": "light"
     },
     "output_type": "display_data"
    }
   ],
   "source": [
    "import numpy as np\n",
    "import matplotlib.pyplot as plt\n",
    "from sklearn.metrics import r2_score\n",
    "outlier_index = np.argmax(y_pred)  # Find the index of the outlier\n",
    "y_true = np.delete(y_true, outlier_index)\n",
    "y_pred = np.delete(y_pred, outlier_index)\n",
    "\n",
    "# Calculate the regression line and R-squared value after removing the outlier\n",
    "regression_line = np.polyfit(y_true, y_pred, 1)\n",
    "regression_fn = np.poly1d(regression_line)\n",
    "r2 = r2_score(y_true, y_pred)\n",
    "\n",
    "# Create a scatter plot with regression line and R-squared value\n",
    "plt.figure(figsize=(8, 6))\n",
    "\n",
    "plt.scatter(y_true, y_pred, color='blue', label='Data points')\n",
    "plt.plot(y_true, regression_fn(y_true), color='red', label='Regression line')\n",
    "\n",
    "# Annotate with R-squared value\n",
    "plt.annotate(f'R-squared = {r2:.2f}', (0.1, 0.9), xycoords='axes fraction', fontsize=12)\n",
    "\n",
    "plt.xlabel('Observed Data')\n",
    "plt.ylabel('Predicted Data')\n",
    "plt.title('Scatter Plot with Regression Line and R-squared Value (Outlier Removed)')\n",
    "plt.legend()\n",
    "\n",
    "plt.grid(True, linestyle='--', alpha=0.7)\n",
    "plt.tight_layout()\n",
    "plt.show()"
   ]
  },
  {
   "cell_type": "code",
   "execution_count": 42,
   "id": "90ea2bd8-644f-4cd9-a9f1-b2070a2f6d31",
   "metadata": {},
   "outputs": [],
   "source": [
    "model.save('di_sulphite_bond.h5')"
   ]
  },
  {
   "cell_type": "code",
   "execution_count": null,
   "id": "d367d127-213f-48c3-a389-707fd04b8981",
   "metadata": {},
   "outputs": [],
   "source": []
  }
 ],
 "metadata": {
  "kernelspec": {
   "display_name": "Python 3",
   "language": "python",
   "name": "python3"
  },
  "language_info": {
   "codemirror_mode": {
    "name": "ipython",
    "version": 3
   },
   "file_extension": ".py",
   "mimetype": "text/x-python",
   "name": "python",
   "nbconvert_exporter": "python",
   "pygments_lexer": "ipython3",
   "version": "3.9.17"
  }
 },
 "nbformat": 4,
 "nbformat_minor": 5
}
