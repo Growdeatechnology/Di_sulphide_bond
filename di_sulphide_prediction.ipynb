{
 "cells": [
  {
   "cell_type": "markdown",
   "id": "1ea47bda-1477-4221-b4f0-536bf96dec64",
   "metadata": {},
   "source": [
    "load the file "
   ]
  },
  {
   "cell_type": "code",
   "execution_count": 1,
   "id": "9f0b9509-87e4-4401-bd09-f2baa4c1e041",
   "metadata": {},
   "outputs": [],
   "source": [
    "import pandas as pd \n",
    "df = pd.read_csv('/home/gdt-ws4/Downloads/protein_bond.csv')"
   ]
  },
  {
   "cell_type": "code",
   "execution_count": 2,
   "id": "569de733",
   "metadata": {},
   "outputs": [
    {
     "data": {
      "text/html": [
       "<div>\n",
       "<style scoped>\n",
       "    .dataframe tbody tr th:only-of-type {\n",
       "        vertical-align: middle;\n",
       "    }\n",
       "\n",
       "    .dataframe tbody tr th {\n",
       "        vertical-align: top;\n",
       "    }\n",
       "\n",
       "    .dataframe thead th {\n",
       "        text-align: right;\n",
       "    }\n",
       "</style>\n",
       "<table border=\"1\" class=\"dataframe\">\n",
       "  <thead>\n",
       "    <tr style=\"text-align: right;\">\n",
       "      <th></th>\n",
       "      <th>Unnamed: 0</th>\n",
       "      <th>prot_id</th>\n",
       "      <th>protein_seq</th>\n",
       "      <th>secondary_structure</th>\n",
       "      <th>number_of_bonds</th>\n",
       "    </tr>\n",
       "  </thead>\n",
       "  <tbody>\n",
       "    <tr>\n",
       "      <th>0</th>\n",
       "      <td>0</td>\n",
       "      <td>1BSOA</td>\n",
       "      <td>LIVTQTMKGLDIQKVAGTWYSLAMAASDISLLDAQSAPLRVYVEEL...</td>\n",
       "      <td>CCCCCCCTTCCTTTTCEECEEEEEEESSHHHHSSTTCTTCEEEEEE...</td>\n",
       "      <td>4</td>\n",
       "    </tr>\n",
       "    <tr>\n",
       "      <th>1</th>\n",
       "      <td>1</td>\n",
       "      <td>1BT3A</td>\n",
       "      <td>APIQAPEISKCVVPPADLPPGAVVDNCCPPVASNIVDYKLPAVTTM...</td>\n",
       "      <td>CCCCCCCGGGCCSSCTTCCTTCSCSCCCCCCCSSEEECCCCCCSSC...</td>\n",
       "      <td>4</td>\n",
       "    </tr>\n",
       "    <tr>\n",
       "      <th>2</th>\n",
       "      <td>2</td>\n",
       "      <td>1B2TA</td>\n",
       "      <td>MQHHGVTKCNITCSKMTSKIPVALLIHYQQNQASCGKRAIILETRQ...</td>\n",
       "      <td>CCSSCCCCSSSCCSSCCCCCCGGGEEEEEECCTTTSSSCEEEEETT...</td>\n",
       "      <td>4</td>\n",
       "    </tr>\n",
       "    <tr>\n",
       "      <th>3</th>\n",
       "      <td>3</td>\n",
       "      <td>1B32A</td>\n",
       "      <td>ADVPAGVQLADKQTLVRNNGSEVQSLDPHKIEGVPESNVSRDLFEG...</td>\n",
       "      <td>CCCCTTCCBCSSCEEEEECSSCCSCSCTTSCCBHHHHHHHHHHCCC...</td>\n",
       "      <td>2</td>\n",
       "    </tr>\n",
       "    <tr>\n",
       "      <th>4</th>\n",
       "      <td>4</td>\n",
       "      <td>1A2JA</td>\n",
       "      <td>AQYEDGKQYTTLEKPVAGAPQVLEFFSFFCPHCYQFEEVLHISDNV...</td>\n",
       "      <td>CCSCBTTTEEECSSCCTTCCSEEEEECTTCHHHHHHHHTSCHHHHH...</td>\n",
       "      <td>2</td>\n",
       "    </tr>\n",
       "    <tr>\n",
       "      <th>...</th>\n",
       "      <td>...</td>\n",
       "      <td>...</td>\n",
       "      <td>...</td>\n",
       "      <td>...</td>\n",
       "      <td>...</td>\n",
       "    </tr>\n",
       "    <tr>\n",
       "      <th>1013</th>\n",
       "      <td>1013</td>\n",
       "      <td>3SSIA</td>\n",
       "      <td>LYAPSALVLTVGKGVSATTAAPERAVTLTCAPGPSGTHPAAGSACA...</td>\n",
       "      <td>CCCCCEEEEEEEESSSTTTCCCCEEEEEECSSSCBSSSTTHHHHHH...</td>\n",
       "      <td>4</td>\n",
       "    </tr>\n",
       "    <tr>\n",
       "      <th>1014</th>\n",
       "      <td>1014</td>\n",
       "      <td>3UAGA</td>\n",
       "      <td>ADYQGKNVVIIGLGLTGLSCVDFFLARGVTPRVMDTRMTPPGLDKL...</td>\n",
       "      <td>CCCTTCCEEEECCSHHHHHHHHHHHTTTCCCEEEESSSSCTTGGGS...</td>\n",
       "      <td>2</td>\n",
       "    </tr>\n",
       "    <tr>\n",
       "      <th>1015</th>\n",
       "      <td>1015</td>\n",
       "      <td>4DPVZ</td>\n",
       "      <td>GSGNGSGGGGGGGSGGVGISTGTFNNQTEFKFLENGWVEITANSSR...</td>\n",
       "      <td>CCCCCCCCCCEETTEETTBCCCCCCCCEEEEECTTSEEEEEEEEEE...</td>\n",
       "      <td>2</td>\n",
       "    </tr>\n",
       "    <tr>\n",
       "      <th>1016</th>\n",
       "      <td>1016</td>\n",
       "      <td>5R1RA</td>\n",
       "      <td>MNQNLLVTKRDGSTERINLDKIHRVLDWAAEGLHNVSISQVELRSH...</td>\n",
       "      <td>CCCCCBCBBTTTBCCBCCHHHHHHHHHHHHTTCSSCCHHHHHHHHH...</td>\n",
       "      <td>2</td>\n",
       "    </tr>\n",
       "    <tr>\n",
       "      <th>1017</th>\n",
       "      <td>1017</td>\n",
       "      <td>8TFVA</td>\n",
       "      <td>GSKKPVPIIYCNRRTGKCQRM</td>\n",
       "      <td>CCCCCCCCEEEEGGGTEEEEC</td>\n",
       "      <td>2</td>\n",
       "    </tr>\n",
       "  </tbody>\n",
       "</table>\n",
       "<p>1018 rows × 5 columns</p>\n",
       "</div>"
      ],
      "text/plain": [
       "      Unnamed: 0 prot_id                                        protein_seq  \\\n",
       "0              0   1BSOA  LIVTQTMKGLDIQKVAGTWYSLAMAASDISLLDAQSAPLRVYVEEL...   \n",
       "1              1   1BT3A  APIQAPEISKCVVPPADLPPGAVVDNCCPPVASNIVDYKLPAVTTM...   \n",
       "2              2   1B2TA  MQHHGVTKCNITCSKMTSKIPVALLIHYQQNQASCGKRAIILETRQ...   \n",
       "3              3   1B32A  ADVPAGVQLADKQTLVRNNGSEVQSLDPHKIEGVPESNVSRDLFEG...   \n",
       "4              4   1A2JA  AQYEDGKQYTTLEKPVAGAPQVLEFFSFFCPHCYQFEEVLHISDNV...   \n",
       "...          ...     ...                                                ...   \n",
       "1013        1013   3SSIA  LYAPSALVLTVGKGVSATTAAPERAVTLTCAPGPSGTHPAAGSACA...   \n",
       "1014        1014   3UAGA  ADYQGKNVVIIGLGLTGLSCVDFFLARGVTPRVMDTRMTPPGLDKL...   \n",
       "1015        1015   4DPVZ  GSGNGSGGGGGGGSGGVGISTGTFNNQTEFKFLENGWVEITANSSR...   \n",
       "1016        1016   5R1RA  MNQNLLVTKRDGSTERINLDKIHRVLDWAAEGLHNVSISQVELRSH...   \n",
       "1017        1017   8TFVA                              GSKKPVPIIYCNRRTGKCQRM   \n",
       "\n",
       "                                    secondary_structure  number_of_bonds  \n",
       "0     CCCCCCCTTCCTTTTCEECEEEEEEESSHHHHSSTTCTTCEEEEEE...                4  \n",
       "1     CCCCCCCGGGCCSSCTTCCTTCSCSCCCCCCCSSEEECCCCCCSSC...                4  \n",
       "2     CCSSCCCCSSSCCSSCCCCCCGGGEEEEEECCTTTSSSCEEEEETT...                4  \n",
       "3     CCCCTTCCBCSSCEEEEECSSCCSCSCTTSCCBHHHHHHHHHHCCC...                2  \n",
       "4     CCSCBTTTEEECSSCCTTCCSEEEEECTTCHHHHHHHHTSCHHHHH...                2  \n",
       "...                                                 ...              ...  \n",
       "1013  CCCCCEEEEEEEESSSTTTCCCCEEEEEECSSSCBSSSTTHHHHHH...                4  \n",
       "1014  CCCTTCCEEEECCSHHHHHHHHHHHTTTCCCEEEESSSSCTTGGGS...                2  \n",
       "1015  CCCCCCCCCCEETTEETTBCCCCCCCCEEEEECTTSEEEEEEEEEE...                2  \n",
       "1016  CCCCCBCBBTTTBCCBCCHHHHHHHHHHHHTTCSSCCHHHHHHHHH...                2  \n",
       "1017                              CCCCCCCCEEEEGGGTEEEEC                2  \n",
       "\n",
       "[1018 rows x 5 columns]"
      ]
     },
     "execution_count": 2,
     "metadata": {},
     "output_type": "execute_result"
    }
   ],
   "source": [
    "df"
   ]
  },
  {
   "cell_type": "code",
   "execution_count": null,
   "id": "33debd7d-1d92-40e7-ae45-f09eea4fa85e",
   "metadata": {},
   "outputs": [],
   "source": [
    "# # Read the text file line by line\n",
    "# with open('disulfide.txt', 'r') as file:\n",
    "#     for line in file:\n",
    "#         # Split each line by spaces\n",
    "#         values = line.split(' ')\n",
    "#         print(values)\n",
    "#         # Process the values as needed\n",
    "       "
   ]
  },
  {
   "cell_type": "code",
   "execution_count": null,
   "id": "e7728224-def9-4551-8693-5577f4439da9",
   "metadata": {},
   "outputs": [],
   "source": [
    "# # Initialize a list to store data\n",
    "# data_list = []\n",
    "# current_data = []\n",
    "\n",
    "# # Read the text file line by line\n",
    "# with open('disulfide.txt', 'r') as file:\n",
    "#     for line in file:\n",
    "#         line = line.strip()  # Remove leading/trailing whitespace\n",
    "#         if line:\n",
    "#             # Append the line to the current_data list\n",
    "#             current_data.append(line)\n",
    "#         else:\n",
    "#             # If a blank line is encountered, append the current_data list to the data_list\n",
    "#             if current_data:\n",
    "#                 data_list.append(current_data)\n",
    "#             current_data = []  # Create a new list for the next section\n",
    "\n",
    "# # Append the last section to the data_list if not empty\n",
    "# if current_data:\n",
    "#     data_list.append(current_data)\n",
    "\n",
    "# # Display the list of lists\n",
    "# for section_data in data_list:\n",
    "#     print(section_data)\n"
   ]
  },
  {
   "cell_type": "code",
   "execution_count": 3,
   "id": "cb55b049-98ae-4a28-a171-a57abbb28727",
   "metadata": {},
   "outputs": [
    {
     "data": {
      "text/plain": [
       "Index(['Unnamed: 0', 'prot_id', 'protein_seq', 'secondary_structure',\n",
       "       'number_of_bonds'],\n",
       "      dtype='object')"
      ]
     },
     "execution_count": 3,
     "metadata": {},
     "output_type": "execute_result"
    }
   ],
   "source": [
    "df.columns"
   ]
  },
  {
   "cell_type": "markdown",
   "id": "7848dc22-dadc-43d5-bd9b-77e0a512b8e1",
   "metadata": {},
   "source": [
    "Plot the Data"
   ]
  },
  {
   "cell_type": "code",
   "execution_count": 5,
   "id": "f10f7d4f-3e82-4c98-a05c-54e4c05bdb56",
   "metadata": {},
   "outputs": [
    {
     "data": {
      "image/png": "[encoded data removed]",
      "text/plain": [
       "<Figure size 640x480 with 1 Axes>"
      ]
     },
     "metadata": {},
     "output_type": "display_data"
    }
   ],
   "source": [
    "import seaborn as sns\n",
    "import matplotlib.pyplot as plt\n",
    "sns.histplot(df['number_of_bonds'], bins=100, kde=True,color='black')  # Adjust the number of bins as needed\n",
    "\n",
    "# Add labels and title\n",
    "plt.xlabel('Value')\n",
    "plt.ylabel('Frequency')\n",
    "plt.title('Data Distribution Plot')\n",
    "\n",
    "# Display the plot\n",
    "plt.show()\n"
   ]
  },
  {
   "cell_type": "code",
   "execution_count": 9,
   "id": "0a24753c-593b-436e-af80-9baea4cc46de",
   "metadata": {},
   "outputs": [],
   "source": [
    "df['target'] = (df['number_of_bonds']/df['seq_len']) *10"
   ]
  },
  {
   "cell_type": "markdown",
   "id": "740956ba-03b0-4b6a-91a7-db750b8302cb",
   "metadata": {},
   "source": [
    "Get the length of each protein sequence length"
   ]
  },
  {
   "cell_type": "code",
   "execution_count": 8,
   "id": "aa3117cc-63be-4adc-8b2d-77c12a3d332f",
   "metadata": {},
   "outputs": [],
   "source": [
    "df['seq_len'] = df['protein_seq'].apply(len)"
   ]
  },
  {
   "cell_type": "code",
   "execution_count": 10,
   "id": "cf1f7a22-7f9d-4c65-b1e8-c01dd867382c",
   "metadata": {},
   "outputs": [
    {
     "data": {
      "text/plain": [
       "Text(0, 0.5, 'Target values')"
      ]
     },
     "execution_count": 10,
     "metadata": {},
     "output_type": "execute_result"
    },
    {
     "data": {
      "image/png": "[encoded data removed]",
      "text/plain": [
       "<Figure size 640x480 with 1 Axes>"
      ]
     },
     "metadata": {},
     "output_type": "display_data"
    }
   ],
   "source": [
    "import matplotlib.pyplot as plt\n",
    "plt.scatter(df['seq_len'],df['target'],color='black')\n",
    "plt.xlabel('sequence length')\n",
    "plt.ylabel('Target values')"
   ]
  },
  {
   "cell_type": "code",
   "execution_count": 11,
   "id": "0c0ae8e0-6f2b-4a47-91b6-d753fd1d7d7f",
   "metadata": {},
   "outputs": [
    {
     "data": {
      "text/plain": [
       "Text(0, 0.5, 'number of bonds')"
      ]
     },
     "execution_count": 11,
     "metadata": {},
     "output_type": "execute_result"
    },
    {
     "data": {
      "image/png": "[encoded data removed]",
      "text/plain": [
       "<Figure size 640x480 with 1 Axes>"
      ]
     },
     "metadata": {},
     "output_type": "display_data"
    }
   ],
   "source": [
    "import matplotlib.pyplot as plt\n",
    "plt.scatter(df['seq_len'],df['number_of_bonds'],color='black')\n",
    "plt.xlabel('sequence length')\n",
    "plt.ylabel('number of bonds')"
   ]
  },
  {
   "cell_type": "code",
   "execution_count": 12,
   "id": "7ad60408-5878-4d5c-96e7-7ac6f49083dc",
   "metadata": {},
   "outputs": [
    {
     "ename": "NameError",
     "evalue": "name 'protein_seq' is not defined",
     "output_type": "error",
     "traceback": [
      "\u001b[0;31m---------------------------------------------------------------------------\u001b[0m",
      "\u001b[0;31mNameError\u001b[0m                                 Traceback (most recent call last)",
      "Cell \u001b[0;32mIn[12], line 1\u001b[0m\n\u001b[0;32m----> 1\u001b[0m max_sequence_length \u001b[38;5;241m=\u001b[39m \u001b[38;5;28mmax\u001b[39m(\u001b[38;5;28mlen\u001b[39m(seq) \u001b[38;5;28;01mfor\u001b[39;00m seq \u001b[38;5;129;01min\u001b[39;00m protein_seq)\n\u001b[1;32m      3\u001b[0m \u001b[38;5;66;03m# Pad sequences to the maximum length\u001b[39;00m\n\u001b[1;32m      4\u001b[0m padded_sequences \u001b[38;5;241m=\u001b[39m pad_sequences(\u001b[38;5;28mall\u001b[39m, maxlen\u001b[38;5;241m=\u001b[39mmax_sequence_length, padding\u001b[38;5;241m=\u001b[39m\u001b[38;5;124m'\u001b[39m\u001b[38;5;124mpost\u001b[39m\u001b[38;5;124m'\u001b[39m, truncating\u001b[38;5;241m=\u001b[39m\u001b[38;5;124m'\u001b[39m\u001b[38;5;124mpost\u001b[39m\u001b[38;5;124m'\u001b[39m, dtype\u001b[38;5;241m=\u001b[39m\u001b[38;5;124m'\u001b[39m\u001b[38;5;124mfloat32\u001b[39m\u001b[38;5;124m'\u001b[39m)\n",
      "\u001b[0;31mNameError\u001b[0m: name 'protein_seq' is not defined"
     ]
    }
   ],
   "source": [
    "max_sequence_length = max(len(seq) for seq in protein_seq)\n",
    "\n",
    "# Pad sequences to the maximum length\n",
    "padded_sequences = pad_sequences(all, maxlen=max_sequence_length, padding='post', truncating='post', dtype='float32')\n",
    "\n",
    "# Convert the padded_sequences list to a numpy array\n",
    "X = np.array(padded_sequences)\n",
    "\n",
    "# Convert the delta_g_values to a numpy array\n",
    "# y = np.array(delta_g_values)"
   ]
  },
  {
   "cell_type": "code",
   "execution_count": 13,
   "id": "acea7769-37b2-4726-bd6d-6193456c4d6d",
   "metadata": {},
   "outputs": [
    {
     "data": {
      "text/plain": [
       "Index(['Unnamed: 0', 'prot_id', 'protein_seq', 'secondary_structure',\n",
       "       'number_of_bonds', 'seq_len', 'target'],\n",
       "      dtype='object')"
      ]
     },
     "execution_count": 13,
     "metadata": {},
     "output_type": "execute_result"
    }
   ],
   "source": [
    "df.columns"
   ]
  },
  {
   "cell_type": "code",
   "execution_count": 14,
   "id": "905b4bdd",
   "metadata": {},
   "outputs": [
    {
     "data": {
      "text/plain": [
       "0       4\n",
       "1       4\n",
       "2       4\n",
       "3       2\n",
       "4       2\n",
       "       ..\n",
       "1013    4\n",
       "1014    2\n",
       "1015    2\n",
       "1016    2\n",
       "1017    2\n",
       "Name: number_of_bonds, Length: 1018, dtype: int64"
      ]
     },
     "execution_count": 14,
     "metadata": {},
     "output_type": "execute_result"
    }
   ],
   "source": [
    "df['number_of_bonds']"
   ]
  },
  {
   "cell_type": "markdown",
   "id": "7e4d6290-17eb-414b-8d05-f835f8ed20f3",
   "metadata": {},
   "source": [
    "converted the target sequence "
   ]
  },
  {
   "cell_type": "code",
   "execution_count": 15,
   "id": "f3efc171-6f63-4f72-8704-c7e56408d4a2",
   "metadata": {},
   "outputs": [],
   "source": [
    "df['target'] = (df['number_of_bonds']/df['seq_len']) *10"
   ]
  },
  {
   "cell_type": "code",
   "execution_count": 16,
   "id": "43db3a0a-c515-48f9-926d-37d33602aed4",
   "metadata": {},
   "outputs": [
    {
     "data": {
      "text/plain": [
       "0       0.246914\n",
       "1       0.119048\n",
       "2       0.519481\n",
       "3       0.038685\n",
       "4       0.106383\n",
       "          ...   \n",
       "1013    0.370370\n",
       "1014    0.046512\n",
       "1015    0.035778\n",
       "1016    0.027100\n",
       "1017    0.952381\n",
       "Name: target, Length: 1018, dtype: float64"
      ]
     },
     "execution_count": 16,
     "metadata": {},
     "output_type": "execute_result"
    }
   ],
   "source": [
    "df['target']"
   ]
  },
  {
   "cell_type": "code",
   "execution_count": 17,
   "id": "14342f0f-a425-42d5-9999-eb769e3ec7fd",
   "metadata": {},
   "outputs": [
    {
     "name": "stderr",
     "output_type": "stream",
     "text": [
      "2023-11-30 13:31:14.539115: E tensorflow/compiler/xla/stream_executor/cuda/cuda_dnn.cc:9498] Unable to register cuDNN factory: Attempting to register factory for plugin cuDNN when one has already been registered\n",
      "2023-11-30 13:31:14.539146: E tensorflow/compiler/xla/stream_executor/cuda/cuda_fft.cc:609] Unable to register cuFFT factory: Attempting to register factory for plugin cuFFT when one has already been registered\n",
      "2023-11-30 13:31:14.541028: E tensorflow/compiler/xla/stream_executor/cuda/cuda_blas.cc:1518] Unable to register cuBLAS factory: Attempting to register factory for plugin cuBLAS when one has already been registered\n",
      "2023-11-30 13:31:14.649014: I tensorflow/core/platform/cpu_feature_guard.cc:182] This TensorFlow binary is optimized to use available CPU instructions in performance-critical operations.\n",
      "To enable the following instructions: AVX2 FMA, in other operations, rebuild TensorFlow with the appropriate compiler flags.\n"
     ]
    },
    {
     "name": "stdout",
     "output_type": "stream",
     "text": [
      "WARNING:tensorflow:From /home/gdt-ws4/anaconda3/lib/python3.11/site-packages/tensorflow/python/ops/distributions/distribution.py:259: ReparameterizationType.__init__ (from tensorflow.python.ops.distributions.distribution) is deprecated and will be removed after 2019-01-01.\n",
      "Instructions for updating:\n",
      "The TensorFlow Distributions library has moved to TensorFlow Probability (https://github.com/tensorflow/probability). You should update all references to use `tfp.distributions` instead of `tf.distributions`.\n",
      "WARNING:tensorflow:From /home/gdt-ws4/anaconda3/lib/python3.11/site-packages/tensorflow/python/ops/distributions/bernoulli.py:165: RegisterKL.__init__ (from tensorflow.python.ops.distributions.kullback_leibler) is deprecated and will be removed after 2019-01-01.\n",
      "Instructions for updating:\n",
      "The TensorFlow Distributions library has moved to TensorFlow Probability (https://github.com/tensorflow/probability). You should update all references to use `tfp.distributions` instead of `tf.distributions`.\n"
     ]
    },
    {
     "name": "stderr",
     "output_type": "stream",
     "text": [
      "2023-11-30 13:31:15.502558: W tensorflow/compiler/tf2tensorrt/utils/py_utils.cc:38] TF-TRT Warning: Could not find TensorRT\n"
     ]
    }
   ],
   "source": [
    "import pandas as pd\n",
    "import numpy as np\n",
    "import pandas as pd\n",
    "import numpy as np\n",
    "from tensorflow.keras.callbacks import ReduceLROnPlateau\n",
    "from sklearn.model_selection import train_test_split\n",
    "from tensorflow.keras.preprocessing.sequence import pad_sequences\n",
    "from tensorflow.keras.models import Sequential\n",
    "from tensorflow.keras.layers import Embedding, Conv1D, MaxPooling1D, Flatten, Dense, Dropout\n",
    "from sklearn.preprocessing import LabelEncoder\n",
    "import tensorflow as tf\n",
    "from tensorflow.keras.optimizers import Adam\n",
    "from sklearn.metrics import mean_squared_error, r2_score, mean_absolute_error"
   ]
  },
  {
   "cell_type": "markdown",
   "id": "8791e59c-b8d4-4aa4-ba2d-7168ec787e61",
   "metadata": {},
   "source": [
    "Do the one hot encoding of each original sequence and secondary sequence"
   ]
  },
  {
   "cell_type": "code",
   "execution_count": 18,
   "id": "775537f0-40a1-4497-b7a8-6eee05a0de76",
   "metadata": {},
   "outputs": [],
   "source": [
    "import numpy as np\n",
    "\n",
    "# Define your list of amino acids\n",
    "amino_acids = ['A', 'C', 'D', 'E', 'F', 'G', 'H', 'I', 'K', 'L', 'M', 'N', 'P', 'Q', 'R', 'S', 'T', 'V', 'W', 'Y']\n",
    "\n",
    "# Create a dictionary to map amino acids to indices\n",
    "aa_to_index = {aa: i for i, aa in enumerate(amino_acids)}\n",
    "\n",
    "# Function to one-hot encode a sequence\n",
    "def one_hot_encode_sequence(sequence):\n",
    "    sequence_length = len(sequence)\n",
    "    num_classes = len(amino_acids)\n",
    "    one_hot_encoded = np.zeros((sequence_length, num_classes))\n",
    "    \n",
    "    for i, aa in enumerate(sequence):\n",
    "        if aa in aa_to_index:\n",
    "            one_hot_encoded[i, aa_to_index[aa]] = 1\n",
    "        else:\n",
    "            # Handle the case where the amino acid is not in the dictionary\n",
    "            # You can choose to ignore it, set a default value, or perform some other action\n",
    "            pass\n",
    "    \n",
    "    return one_hot_encoded\n",
    "\n",
    "# Example protein sequences\n",
    "protein_sequences = df['protein_seq']\n",
    "# Encode the sequences\n",
    "all_dot_products = [one_hot_encode_sequence(seq) for seq in protein_sequences]\n",
    "# structures = df['secondary_structure']\n",
    "# import numpy as np\n",
    "\n",
    "# all_dot_products = []\n",
    "\n",
    "# for i in range(len(encoded_seq)):\n",
    "#     all_dot =  encoded_seq[i]\n",
    "#     all_dot_products.append(all_dot)\n"
   ]
  },
  {
   "cell_type": "code",
   "execution_count": 19,
   "id": "980d7d75",
   "metadata": {},
   "outputs": [
    {
     "data": {
      "text/plain": [
       "0       LIVTQTMKGLDIQKVAGTWYSLAMAASDISLLDAQSAPLRVYVEEL...\n",
       "1       APIQAPEISKCVVPPADLPPGAVVDNCCPPVASNIVDYKLPAVTTM...\n",
       "2       MQHHGVTKCNITCSKMTSKIPVALLIHYQQNQASCGKRAIILETRQ...\n",
       "3       ADVPAGVQLADKQTLVRNNGSEVQSLDPHKIEGVPESNVSRDLFEG...\n",
       "4       AQYEDGKQYTTLEKPVAGAPQVLEFFSFFCPHCYQFEEVLHISDNV...\n",
       "                              ...                        \n",
       "1013    LYAPSALVLTVGKGVSATTAAPERAVTLTCAPGPSGTHPAAGSACA...\n",
       "1014    ADYQGKNVVIIGLGLTGLSCVDFFLARGVTPRVMDTRMTPPGLDKL...\n",
       "1015    GSGNGSGGGGGGGSGGVGISTGTFNNQTEFKFLENGWVEITANSSR...\n",
       "1016    MNQNLLVTKRDGSTERINLDKIHRVLDWAAEGLHNVSISQVELRSH...\n",
       "1017                                GSKKPVPIIYCNRRTGKCQRM\n",
       "Name: protein_seq, Length: 1018, dtype: object"
      ]
     },
     "execution_count": 19,
     "metadata": {},
     "output_type": "execute_result"
    }
   ],
   "source": [
    "df['protein_seq']"
   ]
  },
  {
   "cell_type": "code",
   "execution_count": 20,
   "id": "ddad6d2c",
   "metadata": {},
   "outputs": [],
   "source": [
    "# Assuming 'df' is your DataFrame\n",
    "protein_sequences = df['protein_seq']\n",
    "delta_g_values = df['target']\n",
    "\n",
    "amino_acids = ['A', 'C', 'D', 'E', 'F', 'G', 'H', 'I', 'K', 'L', 'M', 'N', 'P', 'Q', 'R', 'S', 'T', 'V', 'W', 'Y']\n",
    "\n",
    "# Create a dictionary to map amino acids to indices\n",
    "aa_to_index = {aa: i for i, aa in enumerate(amino_acids)}\n",
    "\n",
    "# Function to one-hot encode a sequence\n",
    "def one_hot_encode_sequence(sequence):\n",
    "    sequence_length = len(sequence)\n",
    "    num_classes = len(amino_acids)\n",
    "    one_hot_encoded = np.zeros((sequence_length, num_classes))\n",
    "    \n",
    "    for i, aa in enumerate(sequence):\n",
    "        if aa in aa_to_index:\n",
    "            one_hot_encoded[i, aa_to_index[aa]] = 1\n",
    "        else:\n",
    "            # Handle the case where the amino acid is not in the dictionary\n",
    "            # You can choose to ignore it, set a default value, or perform some other action\n",
    "            pass\n",
    "    \n",
    "    return one_hot_encoded\n",
    "# One-hot encode all the protein sequences in the DataFrame\n",
    "import numpy as np\n",
    "from tensorflow.keras.preprocessing.sequence import pad_sequences\n",
    "\n",
    "# Assuming you have a list of one-hot encoded sequences\n",
    "encoded_sequences = [one_hot_encode_sequence(seq) for seq in protein_sequences]\n",
    "\n",
    "#Find the maximum sequence length\n",
    "max_sequence_length = max(len(seq) for seq in encoded_sequences)\n",
    "\n",
    "# Pad sequences to the maximum length\n",
    "padded_sequences = pad_sequences(encoded_sequences, maxlen=max_sequence_length, padding='post', truncating='post', dtype='float32')\n",
    "\n",
    "# Convert the padded_sequences list to a numpy array\n",
    "X = np.array(padded_sequences)\n",
    "\n",
    "# Convert the delta_g_values to a numpy array\n",
    "y = np.array(delta_g_values)\n",
    "del protein_sequences\n",
    "del delta_g_values\n",
    "del encoded_sequences\n",
    "del padded_sequences"
   ]
  },
  {
   "cell_type": "code",
   "execution_count": 21,
   "id": "a33f9c4f",
   "metadata": {},
   "outputs": [
    {
     "data": {
      "text/plain": [
       "1395"
      ]
     },
     "execution_count": 21,
     "metadata": {},
     "output_type": "execute_result"
    }
   ],
   "source": [
    "max_sequence_length"
   ]
  },
  {
   "cell_type": "code",
   "execution_count": 22,
   "id": "5e346795-f6a7-42b4-9635-775c6b8383f5",
   "metadata": {},
   "outputs": [
    {
     "data": {
      "text/plain": [
       "array([[[0., 0., 0., ..., 0., 0., 0.],\n",
       "        [0., 0., 0., ..., 0., 0., 0.],\n",
       "        [0., 0., 0., ..., 1., 0., 0.],\n",
       "        ...,\n",
       "        [0., 0., 0., ..., 0., 0., 0.],\n",
       "        [0., 0., 0., ..., 0., 0., 0.],\n",
       "        [0., 0., 0., ..., 0., 0., 0.]],\n",
       "\n",
       "       [[1., 0., 0., ..., 0., 0., 0.],\n",
       "        [0., 0., 0., ..., 0., 0., 0.],\n",
       "        [0., 0., 0., ..., 0., 0., 0.],\n",
       "        ...,\n",
       "        [0., 0., 0., ..., 0., 0., 0.],\n",
       "        [0., 0., 0., ..., 0., 0., 0.],\n",
       "        [0., 0., 0., ..., 0., 0., 0.]],\n",
       "\n",
       "       [[0., 0., 0., ..., 0., 0., 0.],\n",
       "        [0., 0., 0., ..., 0., 0., 0.],\n",
       "        [0., 0., 0., ..., 0., 0., 0.],\n",
       "        ...,\n",
       "        [0., 0., 0., ..., 0., 0., 0.],\n",
       "        [0., 0., 0., ..., 0., 0., 0.],\n",
       "        [0., 0., 0., ..., 0., 0., 0.]],\n",
       "\n",
       "       ...,\n",
       "\n",
       "       [[0., 0., 0., ..., 0., 0., 0.],\n",
       "        [0., 0., 0., ..., 0., 0., 0.],\n",
       "        [0., 0., 0., ..., 0., 0., 0.],\n",
       "        ...,\n",
       "        [0., 0., 0., ..., 0., 0., 0.],\n",
       "        [0., 0., 0., ..., 0., 0., 0.],\n",
       "        [0., 0., 0., ..., 0., 0., 0.]],\n",
       "\n",
       "       [[0., 0., 0., ..., 0., 0., 0.],\n",
       "        [0., 0., 0., ..., 0., 0., 0.],\n",
       "        [0., 0., 0., ..., 0., 0., 0.],\n",
       "        ...,\n",
       "        [0., 0., 0., ..., 0., 0., 0.],\n",
       "        [0., 0., 0., ..., 0., 0., 0.],\n",
       "        [0., 0., 0., ..., 0., 0., 0.]],\n",
       "\n",
       "       [[0., 0., 0., ..., 0., 0., 0.],\n",
       "        [0., 0., 0., ..., 0., 0., 0.],\n",
       "        [0., 0., 0., ..., 0., 0., 0.],\n",
       "        ...,\n",
       "        [0., 0., 0., ..., 0., 0., 0.],\n",
       "        [0., 0., 0., ..., 0., 0., 0.],\n",
       "        [0., 0., 0., ..., 0., 0., 0.]]], dtype=float32)"
      ]
     },
     "execution_count": 22,
     "metadata": {},
     "output_type": "execute_result"
    }
   ],
   "source": [
    "X "
   ]
  },
  {
   "cell_type": "code",
   "execution_count": 23,
   "id": "c1961a41-27ee-40f1-b1f3-3f0f14e38035",
   "metadata": {},
   "outputs": [],
   "source": [
    "# y = df['target']\n",
    "# y = np.array(y)"
   ]
  },
  {
   "cell_type": "code",
   "execution_count": 24,
   "id": "da1b39a4-6734-44b1-9763-b7c7ce144a39",
   "metadata": {},
   "outputs": [
    {
     "name": "stdout",
     "output_type": "stream",
     "text": [
      "Training data shapes: (712, 1395, 20) (712,)\n",
      "Validation data shapes: (100, 1395, 20) (100,)\n",
      "Test data shapes: (206, 1395, 20) (206,)\n"
     ]
    }
   ],
   "source": [
    "# Split the data into 70% training and 30% test\n",
    "X_train, X_temp, y_train, y_temp = train_test_split(X, y, test_size=0.3,random_state=42)\n",
    "\n",
    "# # Split the remaining data (30%) into 10% validation and 20% test\n",
    "X_val, X_test, y_val, y_test = train_test_split(X_temp, y_temp, test_size=0.67, random_state=42)\n",
    "\n",
    "# # Print the shapes of the datasets\n",
    "print(\"Training data shapes:\", X_train.shape, y_train.shape)\n",
    "print(\"Validation data shapes:\", X_val.shape, y_val.shape)\n",
    "print(\"Test data shapes:\", X_test.shape, y_test.shape)\n"
   ]
  },
  {
   "cell_type": "code",
   "execution_count": 25,
   "id": "f0cd5b10-21db-4530-85c8-1fb7aadf1321",
   "metadata": {},
   "outputs": [
    {
     "name": "stderr",
     "output_type": "stream",
     "text": [
      "2023-11-30 13:31:39.884597: I tensorflow/compiler/xla/stream_executor/cuda/cuda_gpu_executor.cc:894] successful NUMA node read from SysFS had negative value (-1), but there must be at least one NUMA node, so returning NUMA node zero. See more at https://github.com/torvalds/linux/blob/v6.0/Documentation/ABI/testing/sysfs-bus-pci#L344-L355\n",
      "2023-11-30 13:31:39.992884: I tensorflow/compiler/xla/stream_executor/cuda/cuda_gpu_executor.cc:894] successful NUMA node read from SysFS had negative value (-1), but there must be at least one NUMA node, so returning NUMA node zero. See more at https://github.com/torvalds/linux/blob/v6.0/Documentation/ABI/testing/sysfs-bus-pci#L344-L355\n",
      "2023-11-30 13:31:39.993339: I tensorflow/compiler/xla/stream_executor/cuda/cuda_gpu_executor.cc:894] successful NUMA node read from SysFS had negative value (-1), but there must be at least one NUMA node, so returning NUMA node zero. See more at https://github.com/torvalds/linux/blob/v6.0/Documentation/ABI/testing/sysfs-bus-pci#L344-L355\n",
      "2023-11-30 13:31:39.994552: I tensorflow/compiler/xla/stream_executor/cuda/cuda_gpu_executor.cc:894] successful NUMA node read from SysFS had negative value (-1), but there must be at least one NUMA node, so returning NUMA node zero. See more at https://github.com/torvalds/linux/blob/v6.0/Documentation/ABI/testing/sysfs-bus-pci#L344-L355\n",
      "2023-11-30 13:31:39.994980: I tensorflow/compiler/xla/stream_executor/cuda/cuda_gpu_executor.cc:894] successful NUMA node read from SysFS had negative value (-1), but there must be at least one NUMA node, so returning NUMA node zero. See more at https://github.com/torvalds/linux/blob/v6.0/Documentation/ABI/testing/sysfs-bus-pci#L344-L355\n",
      "2023-11-30 13:31:39.995392: I tensorflow/compiler/xla/stream_executor/cuda/cuda_gpu_executor.cc:894] successful NUMA node read from SysFS had negative value (-1), but there must be at least one NUMA node, so returning NUMA node zero. See more at https://github.com/torvalds/linux/blob/v6.0/Documentation/ABI/testing/sysfs-bus-pci#L344-L355\n",
      "2023-11-30 13:31:40.702130: I tensorflow/compiler/xla/stream_executor/cuda/cuda_gpu_executor.cc:894] successful NUMA node read from SysFS had negative value (-1), but there must be at least one NUMA node, so returning NUMA node zero. See more at https://github.com/torvalds/linux/blob/v6.0/Documentation/ABI/testing/sysfs-bus-pci#L344-L355\n",
      "2023-11-30 13:31:40.702551: I tensorflow/compiler/xla/stream_executor/cuda/cuda_gpu_executor.cc:894] successful NUMA node read from SysFS had negative value (-1), but there must be at least one NUMA node, so returning NUMA node zero. See more at https://github.com/torvalds/linux/blob/v6.0/Documentation/ABI/testing/sysfs-bus-pci#L344-L355\n",
      "2023-11-30 13:31:40.702937: I tensorflow/compiler/xla/stream_executor/cuda/cuda_gpu_executor.cc:894] successful NUMA node read from SysFS had negative value (-1), but there must be at least one NUMA node, so returning NUMA node zero. See more at https://github.com/torvalds/linux/blob/v6.0/Documentation/ABI/testing/sysfs-bus-pci#L344-L355\n",
      "2023-11-30 13:31:40.703553: I tensorflow/core/common_runtime/gpu/gpu_device.cc:1898] Created device /job:localhost/replica:0/task:0/device:GPU:0 with 9784 MB memory:  -> device: 0, name: NVIDIA GeForce RTX 3060, pci bus id: 0000:07:00.0, compute capability: 8.6\n"
     ]
    },
    {
     "name": "stdout",
     "output_type": "stream",
     "text": [
      "Epoch 1/100\n"
     ]
    },
    {
     "name": "stderr",
     "output_type": "stream",
     "text": [
      "2023-11-30 13:31:42.770318: I tensorflow/compiler/xla/stream_executor/cuda/cuda_dnn.cc:442] Loaded cuDNN version 8700\n",
      "2023-11-30 13:31:44.676100: I tensorflow/compiler/xla/service/service.cc:168] XLA service 0x7fcb2997ea60 initialized for platform CUDA (this does not guarantee that XLA will be used). Devices:\n",
      "2023-11-30 13:31:44.676119: I tensorflow/compiler/xla/service/service.cc:176]   StreamExecutor device (0): NVIDIA GeForce RTX 3060, Compute Capability 8.6\n",
      "2023-11-30 13:31:44.682798: I tensorflow/compiler/mlir/tensorflow/utils/dump_mlir_util.cc:269] disabling MLIR crash reproducer, set env var `MLIR_CRASH_REPRODUCER_DIRECTORY` to enable.\n",
      "2023-11-30 13:31:44.754181: I ./tensorflow/compiler/jit/device_compiler.h:186] Compiled cluster using XLA!  This line is logged at most once for the lifetime of the process.\n"
     ]
    },
    {
     "name": "stdout",
     "output_type": "stream",
     "text": [
      "23/23 [==============================] - 5s 34ms/step - loss: 0.9042 - val_loss: 0.1535 - lr: 0.0010\n",
      "Epoch 2/100\n",
      "23/23 [==============================] - 0s 9ms/step - loss: 0.1745 - val_loss: 0.1066 - lr: 0.0010\n",
      "Epoch 3/100\n",
      "23/23 [==============================] - 0s 9ms/step - loss: 0.1428 - val_loss: 0.1003 - lr: 0.0010\n",
      "Epoch 4/100\n",
      "23/23 [==============================] - 0s 9ms/step - loss: 0.1286 - val_loss: 0.0966 - lr: 0.0010\n",
      "Epoch 5/100\n",
      "23/23 [==============================] - 0s 8ms/step - loss: 0.1092 - val_loss: 0.0884 - lr: 0.0010\n",
      "Epoch 6/100\n",
      "23/23 [==============================] - 0s 8ms/step - loss: 0.0914 - val_loss: 0.0865 - lr: 0.0010\n",
      "Epoch 7/100\n",
      "23/23 [==============================] - 0s 8ms/step - loss: 0.0728 - val_loss: 0.0737 - lr: 0.0010\n",
      "Epoch 8/100\n",
      "23/23 [==============================] - 0s 8ms/step - loss: 0.0524 - val_loss: 0.0498 - lr: 0.0010\n",
      "Epoch 9/100\n",
      "23/23 [==============================] - 0s 8ms/step - loss: 0.0448 - val_loss: 0.0428 - lr: 0.0010\n",
      "Epoch 10/100\n",
      "23/23 [==============================] - 0s 8ms/step - loss: 0.0380 - val_loss: 0.0468 - lr: 0.0010\n",
      "Epoch 11/100\n",
      "23/23 [==============================] - 0s 8ms/step - loss: 0.0359 - val_loss: 0.0470 - lr: 0.0010\n",
      "Epoch 12/100\n",
      "23/23 [==============================] - 0s 8ms/step - loss: 0.0289 - val_loss: 0.0326 - lr: 0.0010\n",
      "Epoch 13/100\n",
      "23/23 [==============================] - 0s 9ms/step - loss: 0.0261 - val_loss: 0.0314 - lr: 0.0010\n",
      "Epoch 14/100\n",
      "23/23 [==============================] - 0s 8ms/step - loss: 0.0212 - val_loss: 0.0366 - lr: 0.0010\n",
      "Epoch 15/100\n",
      "23/23 [==============================] - 0s 8ms/step - loss: 0.0259 - val_loss: 0.0430 - lr: 0.0010\n",
      "Epoch 16/100\n",
      "23/23 [==============================] - 0s 8ms/step - loss: 0.0226 - val_loss: 0.0311 - lr: 0.0010\n",
      "Epoch 17/100\n",
      "23/23 [==============================] - 0s 8ms/step - loss: 0.0204 - val_loss: 0.0327 - lr: 0.0010\n",
      "Epoch 18/100\n",
      "23/23 [==============================] - 0s 8ms/step - loss: 0.0213 - val_loss: 0.0440 - lr: 0.0010\n",
      "Epoch 19/100\n",
      "23/23 [==============================] - 0s 8ms/step - loss: 0.0234 - val_loss: 0.0440 - lr: 0.0010\n",
      "Epoch 20/100\n",
      "23/23 [==============================] - 0s 8ms/step - loss: 0.0190 - val_loss: 0.0274 - lr: 0.0010\n",
      "Epoch 21/100\n",
      "23/23 [==============================] - 0s 8ms/step - loss: 0.0270 - val_loss: 0.0321 - lr: 0.0010\n",
      "Epoch 22/100\n",
      "23/23 [==============================] - 0s 8ms/step - loss: 0.0293 - val_loss: 0.0435 - lr: 0.0010\n",
      "Epoch 23/100\n",
      "23/23 [==============================] - 0s 8ms/step - loss: 0.0182 - val_loss: 0.0338 - lr: 0.0010\n",
      "Epoch 24/100\n",
      "23/23 [==============================] - 0s 8ms/step - loss: 0.0183 - val_loss: 0.0309 - lr: 0.0010\n",
      "Epoch 25/100\n",
      "22/23 [===========================>..] - ETA: 0s - loss: 0.0168\n",
      "Epoch 25: ReduceLROnPlateau reducing learning rate to 0.0005000000237487257.\n",
      "23/23 [==============================] - 0s 8ms/step - loss: 0.0167 - val_loss: 0.0283 - lr: 0.0010\n",
      "Epoch 26/100\n",
      "23/23 [==============================] - 0s 8ms/step - loss: 0.0146 - val_loss: 0.0250 - lr: 5.0000e-04\n",
      "Epoch 27/100\n",
      "23/23 [==============================] - 0s 9ms/step - loss: 0.0137 - val_loss: 0.0286 - lr: 5.0000e-04\n",
      "Epoch 28/100\n",
      "23/23 [==============================] - 0s 8ms/step - loss: 0.0139 - val_loss: 0.0228 - lr: 5.0000e-04\n",
      "Epoch 29/100\n",
      "23/23 [==============================] - 0s 9ms/step - loss: 0.0142 - val_loss: 0.0338 - lr: 5.0000e-04\n",
      "Epoch 30/100\n",
      "23/23 [==============================] - 0s 9ms/step - loss: 0.0129 - val_loss: 0.0375 - lr: 5.0000e-04\n",
      "Epoch 31/100\n",
      "23/23 [==============================] - 0s 8ms/step - loss: 0.0143 - val_loss: 0.0288 - lr: 5.0000e-04\n",
      "Epoch 32/100\n",
      "23/23 [==============================] - 0s 8ms/step - loss: 0.0107 - val_loss: 0.0276 - lr: 5.0000e-04\n",
      "Epoch 33/100\n",
      "22/23 [===========================>..] - ETA: 0s - loss: 0.0123\n",
      "Epoch 33: ReduceLROnPlateau reducing learning rate to 0.0002500000118743628.\n",
      "23/23 [==============================] - 0s 9ms/step - loss: 0.0122 - val_loss: 0.0280 - lr: 5.0000e-04\n",
      "Epoch 34/100\n",
      "23/23 [==============================] - 0s 8ms/step - loss: 0.0143 - val_loss: 0.0294 - lr: 2.5000e-04\n",
      "Epoch 35/100\n",
      "23/23 [==============================] - 0s 9ms/step - loss: 0.0124 - val_loss: 0.0266 - lr: 2.5000e-04\n",
      "Epoch 36/100\n",
      "23/23 [==============================] - 0s 9ms/step - loss: 0.0113 - val_loss: 0.0296 - lr: 2.5000e-04\n",
      "Epoch 37/100\n",
      "23/23 [==============================] - 0s 8ms/step - loss: 0.0114 - val_loss: 0.0305 - lr: 2.5000e-04\n",
      "Epoch 38/100\n",
      "22/23 [===========================>..] - ETA: 0s - loss: 0.0122\n",
      "Epoch 38: ReduceLROnPlateau reducing learning rate to 0.0001250000059371814.\n",
      "23/23 [==============================] - 0s 9ms/step - loss: 0.0122 - val_loss: 0.0292 - lr: 2.5000e-04\n",
      "Epoch 39/100\n",
      "23/23 [==============================] - 0s 9ms/step - loss: 0.0113 - val_loss: 0.0251 - lr: 1.2500e-04\n",
      "Epoch 40/100\n",
      "23/23 [==============================] - 0s 8ms/step - loss: 0.0127 - val_loss: 0.0307 - lr: 1.2500e-04\n",
      "Epoch 41/100\n",
      "23/23 [==============================] - 0s 8ms/step - loss: 0.0124 - val_loss: 0.0311 - lr: 1.2500e-04\n",
      "Epoch 42/100\n",
      "23/23 [==============================] - 0s 8ms/step - loss: 0.0130 - val_loss: 0.0279 - lr: 1.2500e-04\n",
      "Epoch 43/100\n",
      "22/23 [===========================>..] - ETA: 0s - loss: 0.0123\n",
      "Epoch 43: ReduceLROnPlateau reducing learning rate to 6.25000029685907e-05.\n",
      "23/23 [==============================] - 0s 8ms/step - loss: 0.0122 - val_loss: 0.0279 - lr: 1.2500e-04\n",
      "Epoch 44/100\n",
      "23/23 [==============================] - 0s 8ms/step - loss: 0.0104 - val_loss: 0.0274 - lr: 6.2500e-05\n",
      "Epoch 45/100\n",
      "23/23 [==============================] - 0s 8ms/step - loss: 0.0118 - val_loss: 0.0295 - lr: 6.2500e-05\n",
      "Epoch 46/100\n",
      "23/23 [==============================] - 0s 8ms/step - loss: 0.0099 - val_loss: 0.0265 - lr: 6.2500e-05\n",
      "Epoch 47/100\n",
      "23/23 [==============================] - 0s 8ms/step - loss: 0.0111 - val_loss: 0.0267 - lr: 6.2500e-05\n",
      "Epoch 48/100\n",
      "22/23 [===========================>..] - ETA: 0s - loss: 0.0112\n",
      "Epoch 48: ReduceLROnPlateau reducing learning rate to 3.125000148429535e-05.\n",
      "23/23 [==============================] - 0s 8ms/step - loss: 0.0112 - val_loss: 0.0291 - lr: 6.2500e-05\n",
      "Epoch 49/100\n",
      "23/23 [==============================] - 0s 8ms/step - loss: 0.0112 - val_loss: 0.0279 - lr: 3.1250e-05\n",
      "Epoch 50/100\n",
      "23/23 [==============================] - 0s 8ms/step - loss: 0.0122 - val_loss: 0.0285 - lr: 3.1250e-05\n",
      "Epoch 51/100\n",
      "23/23 [==============================] - 0s 8ms/step - loss: 0.0130 - val_loss: 0.0271 - lr: 3.1250e-05\n",
      "Epoch 52/100\n",
      "23/23 [==============================] - 0s 8ms/step - loss: 0.0113 - val_loss: 0.0273 - lr: 3.1250e-05\n",
      "Epoch 53/100\n",
      "22/23 [===========================>..] - ETA: 0s - loss: 0.0113\n",
      "Epoch 53: ReduceLROnPlateau reducing learning rate to 1.5625000742147677e-05.\n",
      "23/23 [==============================] - 0s 8ms/step - loss: 0.0114 - val_loss: 0.0283 - lr: 3.1250e-05\n",
      "Epoch 54/100\n",
      "23/23 [==============================] - 0s 8ms/step - loss: 0.0114 - val_loss: 0.0297 - lr: 1.5625e-05\n",
      "Epoch 55/100\n",
      "23/23 [==============================] - 0s 8ms/step - loss: 0.0102 - val_loss: 0.0283 - lr: 1.5625e-05\n",
      "Epoch 56/100\n",
      "23/23 [==============================] - 0s 8ms/step - loss: 0.0125 - val_loss: 0.0275 - lr: 1.5625e-05\n",
      "Epoch 57/100\n",
      "23/23 [==============================] - 0s 8ms/step - loss: 0.0102 - val_loss: 0.0275 - lr: 1.5625e-05\n",
      "Epoch 58/100\n",
      "22/23 [===========================>..] - ETA: 0s - loss: 0.0107\n",
      "Epoch 58: ReduceLROnPlateau reducing learning rate to 7.812500371073838e-06.\n",
      "23/23 [==============================] - 0s 8ms/step - loss: 0.0107 - val_loss: 0.0275 - lr: 1.5625e-05\n",
      "Epoch 59/100\n",
      "23/23 [==============================] - 0s 8ms/step - loss: 0.0119 - val_loss: 0.0275 - lr: 7.8125e-06\n",
      "Epoch 60/100\n",
      "23/23 [==============================] - 0s 8ms/step - loss: 0.0118 - val_loss: 0.0278 - lr: 7.8125e-06\n",
      "Epoch 61/100\n",
      "23/23 [==============================] - 0s 8ms/step - loss: 0.0097 - val_loss: 0.0284 - lr: 7.8125e-06\n",
      "Epoch 62/100\n",
      "23/23 [==============================] - 0s 8ms/step - loss: 0.0104 - val_loss: 0.0280 - lr: 7.8125e-06\n",
      "Epoch 63/100\n",
      "22/23 [===========================>..] - ETA: 0s - loss: 0.0110\n",
      "Epoch 63: ReduceLROnPlateau reducing learning rate to 3.906250185536919e-06.\n",
      "23/23 [==============================] - 0s 8ms/step - loss: 0.0113 - val_loss: 0.0278 - lr: 7.8125e-06\n",
      "Epoch 64/100\n",
      "23/23 [==============================] - 0s 8ms/step - loss: 0.0136 - val_loss: 0.0280 - lr: 3.9063e-06\n",
      "Epoch 65/100\n",
      "23/23 [==============================] - 0s 8ms/step - loss: 0.0131 - val_loss: 0.0279 - lr: 3.9063e-06\n",
      "Epoch 66/100\n",
      "23/23 [==============================] - 0s 8ms/step - loss: 0.0100 - val_loss: 0.0281 - lr: 3.9063e-06\n",
      "Epoch 67/100\n",
      "23/23 [==============================] - 0s 8ms/step - loss: 0.0099 - val_loss: 0.0278 - lr: 3.9063e-06\n",
      "Epoch 68/100\n",
      "22/23 [===========================>..] - ETA: 0s - loss: 0.0101\n",
      "Epoch 68: ReduceLROnPlateau reducing learning rate to 1.9531250927684596e-06.\n",
      "23/23 [==============================] - 0s 8ms/step - loss: 0.0100 - val_loss: 0.0279 - lr: 3.9063e-06\n",
      "Epoch 69/100\n",
      "23/23 [==============================] - 0s 8ms/step - loss: 0.0094 - val_loss: 0.0279 - lr: 1.9531e-06\n",
      "Epoch 70/100\n",
      "23/23 [==============================] - 0s 8ms/step - loss: 0.0101 - val_loss: 0.0278 - lr: 1.9531e-06\n",
      "Epoch 71/100\n",
      "23/23 [==============================] - 0s 8ms/step - loss: 0.0105 - val_loss: 0.0278 - lr: 1.9531e-06\n",
      "Epoch 72/100\n",
      "23/23 [==============================] - 0s 8ms/step - loss: 0.0108 - val_loss: 0.0278 - lr: 1.9531e-06\n",
      "Epoch 73/100\n",
      "22/23 [===========================>..] - ETA: 0s - loss: 0.0085\n",
      "Epoch 73: ReduceLROnPlateau reducing learning rate to 9.765625463842298e-07.\n",
      "23/23 [==============================] - 0s 8ms/step - loss: 0.0085 - val_loss: 0.0278 - lr: 1.9531e-06\n",
      "Epoch 74/100\n",
      "23/23 [==============================] - 0s 8ms/step - loss: 0.0114 - val_loss: 0.0278 - lr: 9.7656e-07\n",
      "Epoch 75/100\n",
      "23/23 [==============================] - 0s 8ms/step - loss: 0.0103 - val_loss: 0.0278 - lr: 9.7656e-07\n",
      "Epoch 76/100\n",
      "23/23 [==============================] - 0s 9ms/step - loss: 0.0105 - val_loss: 0.0279 - lr: 9.7656e-07\n",
      "Epoch 77/100\n",
      "23/23 [==============================] - 0s 8ms/step - loss: 0.0096 - val_loss: 0.0279 - lr: 9.7656e-07\n",
      "Epoch 78/100\n",
      "16/23 [===================>..........] - ETA: 0s - loss: 0.0148\n",
      "Epoch 78: ReduceLROnPlateau reducing learning rate to 4.882812731921149e-07.\n",
      "23/23 [==============================] - 0s 8ms/step - loss: 0.0133 - val_loss: 0.0279 - lr: 9.7656e-07\n",
      "Epoch 79/100\n",
      "23/23 [==============================] - 0s 8ms/step - loss: 0.0108 - val_loss: 0.0279 - lr: 4.8828e-07\n",
      "Epoch 80/100\n",
      "23/23 [==============================] - 0s 8ms/step - loss: 0.0117 - val_loss: 0.0279 - lr: 4.8828e-07\n",
      "Epoch 81/100\n",
      "23/23 [==============================] - 0s 8ms/step - loss: 0.0126 - val_loss: 0.0279 - lr: 4.8828e-07\n",
      "Epoch 82/100\n",
      "23/23 [==============================] - 0s 8ms/step - loss: 0.0123 - val_loss: 0.0280 - lr: 4.8828e-07\n",
      "Epoch 83/100\n",
      "22/23 [===========================>..] - ETA: 0s - loss: 0.0123\n",
      "Epoch 83: ReduceLROnPlateau reducing learning rate to 2.4414063659605745e-07.\n",
      "23/23 [==============================] - 0s 8ms/step - loss: 0.0121 - val_loss: 0.0279 - lr: 4.8828e-07\n",
      "Epoch 84/100\n",
      "23/23 [==============================] - 0s 8ms/step - loss: 0.0125 - val_loss: 0.0279 - lr: 2.4414e-07\n",
      "Epoch 85/100\n",
      "23/23 [==============================] - 0s 8ms/step - loss: 0.0116 - val_loss: 0.0279 - lr: 2.4414e-07\n",
      "Epoch 86/100\n",
      "23/23 [==============================] - 0s 8ms/step - loss: 0.0109 - val_loss: 0.0279 - lr: 2.4414e-07\n",
      "Epoch 87/100\n",
      "23/23 [==============================] - 0s 8ms/step - loss: 0.0109 - val_loss: 0.0279 - lr: 2.4414e-07\n",
      "Epoch 88/100\n",
      "22/23 [===========================>..] - ETA: 0s - loss: 0.0112\n",
      "Epoch 88: ReduceLROnPlateau reducing learning rate to 1.2207031829802872e-07.\n",
      "23/23 [==============================] - 0s 8ms/step - loss: 0.0111 - val_loss: 0.0279 - lr: 2.4414e-07\n",
      "Epoch 89/100\n",
      "23/23 [==============================] - 0s 8ms/step - loss: 0.0102 - val_loss: 0.0278 - lr: 1.2207e-07\n",
      "Epoch 90/100\n",
      "23/23 [==============================] - 0s 8ms/step - loss: 0.0129 - val_loss: 0.0278 - lr: 1.2207e-07\n",
      "Epoch 91/100\n",
      "23/23 [==============================] - 0s 8ms/step - loss: 0.0104 - val_loss: 0.0279 - lr: 1.2207e-07\n",
      "Epoch 92/100\n",
      "23/23 [==============================] - 0s 8ms/step - loss: 0.0116 - val_loss: 0.0278 - lr: 1.2207e-07\n",
      "Epoch 93/100\n",
      "22/23 [===========================>..] - ETA: 0s - loss: 0.0099\n",
      "Epoch 93: ReduceLROnPlateau reducing learning rate to 6.103515914901436e-08.\n",
      "23/23 [==============================] - 0s 8ms/step - loss: 0.0099 - val_loss: 0.0278 - lr: 1.2207e-07\n",
      "Epoch 94/100\n",
      "23/23 [==============================] - 0s 8ms/step - loss: 0.0097 - val_loss: 0.0278 - lr: 6.1035e-08\n",
      "Epoch 95/100\n",
      "23/23 [==============================] - 0s 8ms/step - loss: 0.0100 - val_loss: 0.0278 - lr: 6.1035e-08\n",
      "Epoch 96/100\n",
      "23/23 [==============================] - 0s 8ms/step - loss: 0.0109 - val_loss: 0.0278 - lr: 6.1035e-08\n",
      "Epoch 97/100\n",
      "23/23 [==============================] - 0s 8ms/step - loss: 0.0120 - val_loss: 0.0278 - lr: 6.1035e-08\n",
      "Epoch 98/100\n",
      "22/23 [===========================>..] - ETA: 0s - loss: 0.0107\n",
      "Epoch 98: ReduceLROnPlateau reducing learning rate to 3.051757957450718e-08.\n",
      "23/23 [==============================] - 0s 8ms/step - loss: 0.0106 - val_loss: 0.0278 - lr: 6.1035e-08\n",
      "Epoch 99/100\n",
      "23/23 [==============================] - 0s 8ms/step - loss: 0.0096 - val_loss: 0.0278 - lr: 3.0518e-08\n",
      "Epoch 100/100\n",
      "23/23 [==============================] - 0s 8ms/step - loss: 0.0109 - val_loss: 0.0278 - lr: 3.0518e-08\n",
      "7/7 [==============================] - 0s 17ms/step - loss: 0.0440\n",
      "Test Loss: 0.04402640834450722\n"
     ]
    }
   ],
   "source": [
    "from keras.models import Sequential\n",
    "from keras.layers import Conv1D, MaxPooling1D, Flatten, Dense, Dropout\n",
    "from keras.optimizers import Adam\n",
    "from keras.callbacks import ReduceLROnPlateau\n",
    "\n",
    "# Set the input shape and number of classes (1 for regression)\n",
    "input_shape = (X_train.shape[1],X_train.shape[2]) # Sequence length and number of channels\n",
    "num_classes = 1\n",
    "\n",
    "# Create the model\n",
    "model = Sequential()\n",
    "model.add(Conv1D(filters=32, kernel_size=3, activation='relu', input_shape=input_shape))\n",
    "model.add(MaxPooling1D(pool_size=1))  # Keep this pooling layer\n",
    "model.add(Conv1D(filters=64, kernel_size=3, activation='relu'))\n",
    "model.add(MaxPooling1D(pool_size=2))\n",
    "model.add(Conv1D(filters=128, kernel_size=3, activation='relu'))\n",
    "model.add(MaxPooling1D(pool_size=2))\n",
    "model.add(Flatten())\n",
    "model.add(Dense(256, activation='relu'))\n",
    "model.add(Dropout(0.5))\n",
    "model.add(Dense(num_classes, activation='linear'))\n",
    "\n",
    "\n",
    "# Compile the model with appropriate loss function and optimizer\n",
    "model.compile(loss='mean_squared_error', optimizer=Adam(learning_rate=0.001))\n",
    "\n",
    "# Apply learning rate scheduling\n",
    "lr_scheduler = ReduceLROnPlateau(factor=0.5, patience=5, verbose=1)\n",
    "\n",
    "# Train the model using the training dataset and validate on the validation set\n",
    "history = model.fit(X_train, y_train, epochs=100, batch_size=32, validation_data=(X_val, y_val), callbacks=[lr_scheduler])\n",
    "\n",
    "# Evaluate the model on the test dataset\n",
    "test_loss = model.evaluate(X_test, y_test)\n",
    "print(\"Test Loss:\", test_loss)\n"
   ]
  },
  {
   "cell_type": "code",
   "execution_count": 26,
   "id": "663b0bd4-c030-4e38-a8ee-c79d3a2423be",
   "metadata": {},
   "outputs": [
    {
     "name": "stdout",
     "output_type": "stream",
     "text": [
      "7/7 [==============================] - 0s 2ms/step\n",
      "Mean Squared Error (MSE): 0.044026403544879064\n",
      "R-squared Score: 0.9194069247704834\n"
     ]
    }
   ],
   "source": [
    "# Assuming you have predictions and true values as numpy arrays\n",
    "prediction = model.predict(X_test)\n",
    "y_true = np.array(y_test)  # True delta_G values for the test data\n",
    "y_pred = prediction.reshape(-1)  # Reshape predictions to a 1D array if needed\n",
    "\n",
    "# Calculate mean squared error (MSE)\n",
    "mse = mean_squared_error(y_true, y_pred)\n",
    "\n",
    "# Calculate coefficient of determination (R-squared score)\n",
    "r2_score_value = r2_score(y_true, y_pred)\n",
    "\n",
    "# Print the results\n",
    "print(\"Mean Squared Error (MSE):\", mse)\n",
    "print(\"R-squared Score:\", r2_score_value)\n"
   ]
  },
  {
   "cell_type": "code",
   "execution_count": 27,
   "id": "ed28785c-0152-42b0-8229-a11717538ba0",
   "metadata": {},
   "outputs": [
    {
     "data": {
      "image/png": "[encoded data removed]",
      "text/plain": [
       "<Figure size 800x600 with 1 Axes>"
      ]
     },
     "metadata": {},
     "output_type": "display_data"
    }
   ],
   "source": [
    "import matplotlib.pyplot as plt\n",
    "regression_line = np.polyfit(y_true, y_pred, 1)\n",
    "regression_fn = np.poly1d(regression_line)\n",
    "\n",
    "# Calculate the R-squared value\n",
    "r2 = r2_score(y_true, y_pred)\n",
    "\n",
    "# Create a scatter plot with regression line and R-squared value\n",
    "plt.figure(figsize=(8, 6))\n",
    "\n",
    "plt.scatter(y_true, y_pred, color='black', label='Data points')\n",
    "plt.plot(y_true, regression_fn(y_true), color='red', label='Regression line')\n",
    "\n",
    "# Annotate with R-squared value\n",
    "plt.annotate(f'R-squared = {r2:.2f}', (0.1, 0.9), xycoords='axes fraction', fontsize=12)\n",
    "\n",
    "plt.xlabel('Observed Data')\n",
    "plt.ylabel('predicted Data')\n",
    "plt.title('Scatter Plot with Regression Line and R-squared Value')\n",
    "plt.legend()\n",
    "\n",
    "plt.grid(True, linestyle='--', alpha=0.7)\n",
    "plt.tight_layout()\n",
    "plt.show()\n",
    "\n"
   ]
  },
  {
   "cell_type": "code",
   "execution_count": 41,
   "id": "91f79a0c-d0ef-4519-b594-20e9b10a8979",
   "metadata": {},
   "outputs": [
    {
     "data": {
      "image/png": "[encoded data removed]",
      "text/plain": [
       "<Figure size 576x432 with 1 Axes>"
      ]
     },
     "metadata": {
      "needs_background": "light"
     },
     "output_type": "display_data"
    }
   ],
   "source": [
    "import numpy as np\n",
    "import matplotlib.pyplot as plt\n",
    "from sklearn.metrics import r2_score\n",
    "outlier_index = np.argmax(y_pred)  # Find the index of the outlier\n",
    "y_true = np.delete(y_true, outlier_index)\n",
    "y_pred = np.delete(y_pred, outlier_index)\n",
    "\n",
    "# Calculate the regression line and R-squared value after removing the outlier\n",
    "regression_line = np.polyfit(y_true, y_pred, 1)\n",
    "regression_fn = np.poly1d(regression_line)\n",
    "r2 = r2_score(y_true, y_pred)\n",
    "\n",
    "# Create a scatter plot with regression line and R-squared value\n",
    "plt.figure(figsize=(8, 6))\n",
    "\n",
    "plt.scatter(y_true, y_pred, color='blue', label='Data points')\n",
    "plt.plot(y_true, regression_fn(y_true), color='red', label='Regression line')\n",
    "\n",
    "# Annotate with R-squared value\n",
    "plt.annotate(f'R-squared = {r2:.2f}', (0.1, 0.9), xycoords='axes fraction', fontsize=12)\n",
    "\n",
    "plt.xlabel('Observed Data')\n",
    "plt.ylabel('Predicted Data')\n",
    "plt.title('Scatter Plot with Regression Line and R-squared Value (Outlier Removed)')\n",
    "plt.legend()\n",
    "\n",
    "plt.grid(True, linestyle='--', alpha=0.7)\n",
    "plt.tight_layout()\n",
    "plt.show()"
   ]
  },
  {
   "cell_type": "code",
   "execution_count": 42,
   "id": "90ea2bd8-644f-4cd9-a9f1-b2070a2f6d31",
   "metadata": {},
   "outputs": [],
   "source": [
    "model.save('di_sulphite_bond.h5')"
   ]
  },
  {
   "cell_type": "code",
   "execution_count": null,
   "id": "d367d127-213f-48c3-a389-707fd04b8981",
   "metadata": {},
   "outputs": [],
   "source": []
  }
 ],
 "metadata": {
  "kernelspec": {
   "display_name": "Python 3 (ipykernel)",
   "language": "python",
   "name": "python3"
  },
  "language_info": {
   "codemirror_mode": {
    "name": "ipython",
    "version": 3
   },
   "file_extension": ".py",
   "mimetype": "text/x-python",
   "name": "python",
   "nbconvert_exporter": "python",
   "pygments_lexer": "ipython3",
   "version": "3.11.3"
  }
 },
 "nbformat": 4,
 "nbformat_minor": 5
}
